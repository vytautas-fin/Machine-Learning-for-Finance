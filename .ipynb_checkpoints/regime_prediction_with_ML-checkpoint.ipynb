{
 "cells": [
  {
   "cell_type": "markdown",
   "metadata": {},
   "source": [
    "# Regime Prediction with Machine Learning\n",
    "\n",
    "In this notebook, we are going to predict recessions in US economy with leading macroeconomic indicators using machine learning algorithms. We will deal with Supervised Learning-Classification Problem.\n",
    "\n",
    "- Build a predictive model for recessions using macro-economic dataset.\n",
    "- Compare performances of machine learning algorithms with traditional approaches.\n",
    "\n",
    "Better probability projections can be used to provide details for institutions in order for them to adapt their policy and minimize the effect of 'bad' events.\n",
    "Analysis can be extended for other questions such as regime analysis on stock markets in order to build forecast for stock market regimes.  Investors can incorporate them into the scenario generation of a multi-regime investment model."
   ]
  },
  {
   "cell_type": "markdown",
   "metadata": {
    "toc": true
   },
   "source": [
    "<h1>Table of Contents<span class=\"tocSkip\"></span></h1>\n",
    "<div class=\"toc\"><ul class=\"toc-item\"><li><span><a href=\"#Problem-Description-and-Data-Analysis\" data-toc-modified-id=\"Problem-Description-and-Data-Analysis-1\"><span class=\"toc-item-num\">1&nbsp;&nbsp;</span>Problem Description and Data Analysis</a></span><ul class=\"toc-item\"><li><span><a href=\"#Problem-Description\" data-toc-modified-id=\"Problem-Description-1.1\"><span class=\"toc-item-num\">1.1&nbsp;&nbsp;</span>Problem Description</a></span></li><li><span><a href=\"#Related-Work\" data-toc-modified-id=\"Related-Work-1.2\"><span class=\"toc-item-num\">1.2&nbsp;&nbsp;</span>Related Work</a></span></li><li><span><a href=\"#Understand-Data\" data-toc-modified-id=\"Understand-Data-1.3\"><span class=\"toc-item-num\">1.3&nbsp;&nbsp;</span>Understand Data</a></span><ul class=\"toc-item\"><li><span><a href=\"#Set-Up-Environment\" data-toc-modified-id=\"Set-Up-Environment-1.3.1\"><span class=\"toc-item-num\">1.3.1&nbsp;&nbsp;</span>Set Up Environment</a></span></li><li><span><a href=\"#Read-Data-and-Description-of-the-Variables\" data-toc-modified-id=\"Read-Data-and-Description-of-the-Variables-1.3.2\"><span class=\"toc-item-num\">1.3.2&nbsp;&nbsp;</span>Read Data and Description of the Variables</a></span></li><li><span><a href=\"#Explanatory-Data-Analysis\" data-toc-modified-id=\"Explanatory-Data-Analysis-1.3.3\"><span class=\"toc-item-num\">1.3.3&nbsp;&nbsp;</span>Explanatory Data Analysis</a></span></li></ul></li></ul></li><li><span><a href=\"#Data-Preprocessing\" data-toc-modified-id=\"Data-Preprocessing-2\"><span class=\"toc-item-num\">2&nbsp;&nbsp;</span>Data Preprocessing</a></span><ul class=\"toc-item\"><li><span><a href=\"#Set-Up-Environment-and-Read-Data\" data-toc-modified-id=\"Set-Up-Environment-and-Read-Data-2.1\"><span class=\"toc-item-num\">2.1&nbsp;&nbsp;</span>Set Up Environment and Read Data</a></span></li><li><span><a href=\"#Data-Cleaning\" data-toc-modified-id=\"Data-Cleaning-2.2\"><span class=\"toc-item-num\">2.2&nbsp;&nbsp;</span>Data Cleaning</a></span><ul class=\"toc-item\"><li><span><a href=\"#Remove-missing-observations\" data-toc-modified-id=\"Remove-missing-observations-2.2.1\"><span class=\"toc-item-num\">2.2.1&nbsp;&nbsp;</span>Remove missing observations</a></span></li><li><span><a href=\"#Adding-lagged-variables\" data-toc-modified-id=\"Adding-lagged-variables-2.2.2\"><span class=\"toc-item-num\">2.2.2&nbsp;&nbsp;</span>Adding lagged variables</a></span></li><li><span><a href=\"#Stationarity-of-time-series\" data-toc-modified-id=\"Stationarity-of-time-series-2.2.3\"><span class=\"toc-item-num\">2.2.3&nbsp;&nbsp;</span>Stationarity of time series</a></span></li><li><span><a href=\"#Standardization\" data-toc-modified-id=\"Standardization-2.2.4\"><span class=\"toc-item-num\">2.2.4&nbsp;&nbsp;</span>Standardization</a></span></li></ul></li></ul></li><li><span><a href=\"#Forecasting-regimes\" data-toc-modified-id=\"Forecasting-regimes-3\"><span class=\"toc-item-num\">3&nbsp;&nbsp;</span>Forecasting regimes</a></span><ul class=\"toc-item\"><li><span><a href=\"#Set-Up-Environment-and-Read-Data\" data-toc-modified-id=\"Set-Up-Environment-and-Read-Data-3.1\"><span class=\"toc-item-num\">3.1&nbsp;&nbsp;</span>Set Up Environment and Read Data</a></span></li><li><span><a href=\"#Methodology\" data-toc-modified-id=\"Methodology-3.2\"><span class=\"toc-item-num\">3.2&nbsp;&nbsp;</span>Methodology</a></span></li><li><span><a href=\"#Feature-Selection-with-$L_1$-Penalty\" data-toc-modified-id=\"Feature-Selection-with-$L_1$-Penalty-3.3\"><span class=\"toc-item-num\">3.3&nbsp;&nbsp;</span>Feature Selection with $L_1$ Penalty</a></span><ul class=\"toc-item\"><li><span><a href=\"#Time-Series-Split\" data-toc-modified-id=\"Time-Series-Split-3.3.1\"><span class=\"toc-item-num\">3.3.1&nbsp;&nbsp;</span>Time Series Split</a></span></li><li><span><a href=\"#Cross-Validation-(CV)\" data-toc-modified-id=\"Cross-Validation-(CV)-3.3.2\"><span class=\"toc-item-num\">3.3.2&nbsp;&nbsp;</span>Cross-Validation (CV)</a></span></li></ul></li><li><span><a href=\"#Training-Algorithms-on-Training-Dataset\" data-toc-modified-id=\"Training-Algorithms-on-Training-Dataset-3.4\"><span class=\"toc-item-num\">3.4&nbsp;&nbsp;</span>Training Algorithms on Training Dataset</a></span></li><li><span><a href=\"#Evaluate-Performances-of-the-Algorithms-on-Validation-Dataset\" data-toc-modified-id=\"Evaluate-Performances-of-the-Algorithms-on-Validation-Dataset-3.5\"><span class=\"toc-item-num\">3.5&nbsp;&nbsp;</span>Evaluate Performances of the Algorithms on Validation Dataset</a></span><ul class=\"toc-item\"><li><span><a href=\"#Logistic-Regression\" data-toc-modified-id=\"Logistic-Regression-3.5.1\"><span class=\"toc-item-num\">3.5.1&nbsp;&nbsp;</span>Logistic Regression</a></span></li><li><span><a href=\"#Logistic-Regression-with-Regularization\" data-toc-modified-id=\"Logistic-Regression-with-Regularization-3.5.2\"><span class=\"toc-item-num\">3.5.2&nbsp;&nbsp;</span>Logistic Regression with Regularization</a></span></li><li><span><a href=\"#XGBoosting\" data-toc-modified-id=\"XGBoosting-3.5.3\"><span class=\"toc-item-num\">3.5.3&nbsp;&nbsp;</span>XGBoosting</a></span></li></ul></li></ul></li><li><span><a href=\"#References-to-related-work\" data-toc-modified-id=\"References-to-related-work-4\"><span class=\"toc-item-num\">4&nbsp;&nbsp;</span>References to related work</a></span></li></ul></div>"
   ]
  },
  {
   "cell_type": "markdown",
   "metadata": {},
   "source": [
    "## Problem Description and Data Analysis\n",
    "In this part, we are going to explain the problem and get familiar with the dataset we are going to use."
   ]
  },
  {
   "cell_type": "markdown",
   "metadata": {},
   "source": [
    "### Problem Description"
   ]
  },
  {
   "cell_type": "markdown",
   "metadata": {},
   "source": [
    "Business cycle describes the rise and fall in the growth of the economy that occurs over time. Each business cyle has two turning points trough (or bottom) and peak. Expansion is measured from the trough of the previous business cycle to the peak of the current cycle, while recession is measured from the peak to the trough. A representation of business cycles is shown in __[figure](https://courses.lumenlearning.com/baycollege-introbusiness/chapter/reading-the-business-cycle-definition-and-phases/)__ below. In the United States (US), the Business Cycle Dating Committee of the National Bureau of Economic Research (NBER) determines the dates for business cycles. The turning points are determined by considering monthly growth indicators of the economy such as industrial production, employment, real income. The main focus of business cycle analysis is to analyze why economy goes through contraction and expansion periods. It is a well-studied topic in the literature and still an active reserach area. \n",
    "\n",
    "In this notebook, we are going to predict recessions in US economy with leading macroeconomic indicators using machine learning algorithms."
   ]
  },
  {
   "cell_type": "markdown",
   "metadata": {},
   "source": [
    "<center><img src=\"data/regime_prediction_with_ML/image2.png\" align=\"center\"  ></center>"
   ]
  },
  {
   "cell_type": "markdown",
   "metadata": {},
   "source": [
    "### Related Work\n",
    "Predicting business cycle turning points, especially economic recessions, is of great importance to investors, households, businesses in the economy.\n",
    "Starting from &nbsp;[Mitchell and Burns (1938)](#a) pioneering work,  analyzing indicators of business cycles have become a core research area in business cycle analysis and there has been many work done in that field since then. Much of the work in the literature has indicated a wide range of economic and financial variables contain predictive information about future recessions in the economy.&nbsp;[Stock and Watson (1989)](#b) established coincedent and leading economic indicators for recession forecasting. &nbsp;[Estrella and Mishkin (1998)](#c) have documented predictive power of the slope of the term structure of Treasury yields and stock market for US recessions. \n",
    "&nbsp;[Liu and Moench (2016)](#f) have also showed the Treasury term spread has the highest predictive power with lagged abservations as well. Also, they indicated that balances in broker-dealer margin accounts have significant effect on recession predictions, especially in longer horizons.\n",
    "&nbsp;[Chionis et al. (2009)](#d) worked on forecasting recessions in Europe with European Union (EU) data. They found out that the yield curve augmented with the composite stock index has significant predictive\n",
    "power in terms of the EU real output.\n",
    "&nbsp;[Ng (2014)](#e) worked on the problem through exploring effectiveness of boosting and found out interest rate measures and certain employment variables have predictive power for the recessions.\n",
    "Recently, &nbsp;[Huang et al. (2018)](#g) have worked on predictive power of news sentiment analysis on recession forecasting in US economy. \n",
    "\n"
   ]
  },
  {
   "cell_type": "markdown",
   "metadata": {},
   "source": [
    "### Understand Data"
   ]
  },
  {
   "cell_type": "markdown",
   "metadata": {},
   "source": [
    "#### Set Up Environment"
   ]
  },
  {
   "cell_type": "code",
   "execution_count": 1,
   "metadata": {
    "scrolled": true
   },
   "outputs": [],
   "source": [
    "# load libraries\n",
    "import pandas as pd \n",
    "import numpy as np\n",
    "import matplotlib.pyplot as plt \n",
    "import warnings\n",
    "warnings.filterwarnings('ignore')"
   ]
  },
  {
   "cell_type": "markdown",
   "metadata": {},
   "source": [
    "#### Read Data and Description of the Variables"
   ]
  },
  {
   "cell_type": "markdown",
   "metadata": {},
   "source": [
    "For our analysis we will use a large macroeconomic database from FRED St. Louis designed by [McCracken and Ng (2015)](#i). It involves 129 macroeconomic monthly time series over the period 1959-2018. The data is organized into 8 categories (1)output and income, (2)labor market, (3)housing, (4)consumption, orders and inventories, (5)money and credit, (6)interest and exchange rates, (7)prices and (8)stock market. Detail description of the variables under each category can be found in __[appendix]( https://s3.amazonaws.com/files.fred.stlouisfed.org/fred-md/Appendix_Tables_Update.pdf)__."
   ]
  },
  {
   "cell_type": "code",
   "execution_count": 2,
   "metadata": {},
   "outputs": [
    {
     "data": {
      "text/html": [
       "<div>\n",
       "<style scoped>\n",
       "    .dataframe tbody tr th:only-of-type {\n",
       "        vertical-align: middle;\n",
       "    }\n",
       "\n",
       "    .dataframe tbody tr th {\n",
       "        vertical-align: top;\n",
       "    }\n",
       "\n",
       "    .dataframe thead th {\n",
       "        text-align: right;\n",
       "    }\n",
       "</style>\n",
       "<table border=\"1\" class=\"dataframe\">\n",
       "  <thead>\n",
       "    <tr style=\"text-align: right;\">\n",
       "      <th></th>\n",
       "      <th>Date</th>\n",
       "      <th>RPI</th>\n",
       "      <th>W875RX1</th>\n",
       "      <th>DPCERA3M086SBEA</th>\n",
       "      <th>CMRMTSPLx</th>\n",
       "      <th>RETAILx</th>\n",
       "      <th>INDPRO</th>\n",
       "      <th>IPFPNSS</th>\n",
       "      <th>IPFINAL</th>\n",
       "      <th>IPCONGD</th>\n",
       "      <th>...</th>\n",
       "      <th>DSERRG3M086SBEA</th>\n",
       "      <th>CES0600000008</th>\n",
       "      <th>CES2000000008</th>\n",
       "      <th>CES3000000008</th>\n",
       "      <th>UMCSENTx</th>\n",
       "      <th>MZMSL</th>\n",
       "      <th>DTCOLNVHFNM</th>\n",
       "      <th>DTCTHFNM</th>\n",
       "      <th>INVEST</th>\n",
       "      <th>VXOCLSx</th>\n",
       "    </tr>\n",
       "  </thead>\n",
       "  <tbody>\n",
       "    <tr>\n",
       "      <td>0</td>\n",
       "      <td>1/1/59</td>\n",
       "      <td>2437.296</td>\n",
       "      <td>2288.8</td>\n",
       "      <td>17.302</td>\n",
       "      <td>292258.8329</td>\n",
       "      <td>18235.77392</td>\n",
       "      <td>22.6248</td>\n",
       "      <td>23.4555</td>\n",
       "      <td>22.1893</td>\n",
       "      <td>32.4027</td>\n",
       "      <td>...</td>\n",
       "      <td>11.358</td>\n",
       "      <td>2.13</td>\n",
       "      <td>2.45</td>\n",
       "      <td>2.04</td>\n",
       "      <td>NaN</td>\n",
       "      <td>274.9</td>\n",
       "      <td>6476.0</td>\n",
       "      <td>12298.0</td>\n",
       "      <td>84.2043</td>\n",
       "      <td>NaN</td>\n",
       "    </tr>\n",
       "    <tr>\n",
       "      <td>1</td>\n",
       "      <td>2/1/59</td>\n",
       "      <td>2446.902</td>\n",
       "      <td>2297.0</td>\n",
       "      <td>17.482</td>\n",
       "      <td>294429.5453</td>\n",
       "      <td>18369.56308</td>\n",
       "      <td>23.0679</td>\n",
       "      <td>23.7720</td>\n",
       "      <td>22.3816</td>\n",
       "      <td>32.6404</td>\n",
       "      <td>...</td>\n",
       "      <td>11.375</td>\n",
       "      <td>2.14</td>\n",
       "      <td>2.46</td>\n",
       "      <td>2.05</td>\n",
       "      <td>NaN</td>\n",
       "      <td>276.0</td>\n",
       "      <td>6476.0</td>\n",
       "      <td>12298.0</td>\n",
       "      <td>83.5280</td>\n",
       "      <td>NaN</td>\n",
       "    </tr>\n",
       "    <tr>\n",
       "      <td>2</td>\n",
       "      <td>3/1/59</td>\n",
       "      <td>2462.689</td>\n",
       "      <td>2314.0</td>\n",
       "      <td>17.647</td>\n",
       "      <td>293425.3813</td>\n",
       "      <td>18523.05762</td>\n",
       "      <td>23.4002</td>\n",
       "      <td>23.9159</td>\n",
       "      <td>22.4914</td>\n",
       "      <td>32.6404</td>\n",
       "      <td>...</td>\n",
       "      <td>11.395</td>\n",
       "      <td>2.15</td>\n",
       "      <td>2.45</td>\n",
       "      <td>2.07</td>\n",
       "      <td>NaN</td>\n",
       "      <td>277.4</td>\n",
       "      <td>6508.0</td>\n",
       "      <td>12349.0</td>\n",
       "      <td>81.6405</td>\n",
       "      <td>NaN</td>\n",
       "    </tr>\n",
       "    <tr>\n",
       "      <td>3</td>\n",
       "      <td>4/1/59</td>\n",
       "      <td>2478.744</td>\n",
       "      <td>2330.3</td>\n",
       "      <td>17.584</td>\n",
       "      <td>299331.6505</td>\n",
       "      <td>18534.46600</td>\n",
       "      <td>23.8987</td>\n",
       "      <td>24.2613</td>\n",
       "      <td>22.8210</td>\n",
       "      <td>33.1553</td>\n",
       "      <td>...</td>\n",
       "      <td>11.436</td>\n",
       "      <td>2.16</td>\n",
       "      <td>2.47</td>\n",
       "      <td>2.08</td>\n",
       "      <td>NaN</td>\n",
       "      <td>278.1</td>\n",
       "      <td>6620.0</td>\n",
       "      <td>12484.0</td>\n",
       "      <td>81.8099</td>\n",
       "      <td>NaN</td>\n",
       "    </tr>\n",
       "    <tr>\n",
       "      <td>4</td>\n",
       "      <td>5/1/59</td>\n",
       "      <td>2493.228</td>\n",
       "      <td>2345.8</td>\n",
       "      <td>17.796</td>\n",
       "      <td>301372.9597</td>\n",
       "      <td>18679.66354</td>\n",
       "      <td>24.2587</td>\n",
       "      <td>24.4628</td>\n",
       "      <td>23.0407</td>\n",
       "      <td>33.3137</td>\n",
       "      <td>...</td>\n",
       "      <td>11.454</td>\n",
       "      <td>2.17</td>\n",
       "      <td>2.48</td>\n",
       "      <td>2.08</td>\n",
       "      <td>95.3</td>\n",
       "      <td>280.1</td>\n",
       "      <td>6753.0</td>\n",
       "      <td>12646.0</td>\n",
       "      <td>80.7315</td>\n",
       "      <td>NaN</td>\n",
       "    </tr>\n",
       "  </tbody>\n",
       "</table>\n",
       "<p>5 rows × 129 columns</p>\n",
       "</div>"
      ],
      "text/plain": [
       "     Date       RPI  W875RX1  DPCERA3M086SBEA    CMRMTSPLx      RETAILx  \\\n",
       "0  1/1/59  2437.296   2288.8           17.302  292258.8329  18235.77392   \n",
       "1  2/1/59  2446.902   2297.0           17.482  294429.5453  18369.56308   \n",
       "2  3/1/59  2462.689   2314.0           17.647  293425.3813  18523.05762   \n",
       "3  4/1/59  2478.744   2330.3           17.584  299331.6505  18534.46600   \n",
       "4  5/1/59  2493.228   2345.8           17.796  301372.9597  18679.66354   \n",
       "\n",
       "    INDPRO  IPFPNSS  IPFINAL  IPCONGD  ...  DSERRG3M086SBEA  CES0600000008  \\\n",
       "0  22.6248  23.4555  22.1893  32.4027  ...           11.358           2.13   \n",
       "1  23.0679  23.7720  22.3816  32.6404  ...           11.375           2.14   \n",
       "2  23.4002  23.9159  22.4914  32.6404  ...           11.395           2.15   \n",
       "3  23.8987  24.2613  22.8210  33.1553  ...           11.436           2.16   \n",
       "4  24.2587  24.4628  23.0407  33.3137  ...           11.454           2.17   \n",
       "\n",
       "   CES2000000008  CES3000000008  UMCSENTx  MZMSL  DTCOLNVHFNM  DTCTHFNM  \\\n",
       "0           2.45           2.04       NaN  274.9       6476.0   12298.0   \n",
       "1           2.46           2.05       NaN  276.0       6476.0   12298.0   \n",
       "2           2.45           2.07       NaN  277.4       6508.0   12349.0   \n",
       "3           2.47           2.08       NaN  278.1       6620.0   12484.0   \n",
       "4           2.48           2.08      95.3  280.1       6753.0   12646.0   \n",
       "\n",
       "    INVEST  VXOCLSx  \n",
       "0  84.2043      NaN  \n",
       "1  83.5280      NaN  \n",
       "2  81.6405      NaN  \n",
       "3  81.8099      NaN  \n",
       "4  80.7315      NaN  \n",
       "\n",
       "[5 rows x 129 columns]"
      ]
     },
     "execution_count": 2,
     "metadata": {},
     "output_type": "execute_result"
    }
   ],
   "source": [
    "# Read the data\n",
    "bigmacro=pd.read_csv(\"data/regime_prediction_with_ML/Macroeconomic_Variables.csv\")\n",
    "bigmacro=bigmacro.rename(columns={'sasdate':'Date'})\n",
    "bigmacro.head()"
   ]
  },
  {
   "cell_type": "markdown",
   "metadata": {},
   "source": [
    "Consistent with the previous works in the literature, we use __[business cycle dating chronology provided by NBER](http://www.nber.org/cycles.html)__  which involves dates when recession began and ended in US economy. According to NBER's statistics we have 8 recession periods in our dataset where duration is changing from 6 to 18 months. We represent regimes as \"Normal\" and \"Recession\" in our dataset. "
   ]
  },
  {
   "cell_type": "code",
   "execution_count": 3,
   "metadata": {},
   "outputs": [
    {
     "data": {
      "text/html": [
       "<div>\n",
       "<style scoped>\n",
       "    .dataframe tbody tr th:only-of-type {\n",
       "        vertical-align: middle;\n",
       "    }\n",
       "\n",
       "    .dataframe tbody tr th {\n",
       "        vertical-align: top;\n",
       "    }\n",
       "\n",
       "    .dataframe thead th {\n",
       "        text-align: right;\n",
       "    }\n",
       "</style>\n",
       "<table border=\"1\" class=\"dataframe\">\n",
       "  <thead>\n",
       "    <tr style=\"text-align: right;\">\n",
       "      <th></th>\n",
       "      <th>Date</th>\n",
       "      <th>Regime</th>\n",
       "      <th>RPI</th>\n",
       "      <th>W875RX1</th>\n",
       "      <th>DPCERA3M086SBEA</th>\n",
       "      <th>CMRMTSPLx</th>\n",
       "      <th>RETAILx</th>\n",
       "      <th>INDPRO</th>\n",
       "      <th>IPFPNSS</th>\n",
       "      <th>IPFINAL</th>\n",
       "      <th>...</th>\n",
       "      <th>DSERRG3M086SBEA</th>\n",
       "      <th>CES0600000008</th>\n",
       "      <th>CES2000000008</th>\n",
       "      <th>CES3000000008</th>\n",
       "      <th>UMCSENTx</th>\n",
       "      <th>MZMSL</th>\n",
       "      <th>DTCOLNVHFNM</th>\n",
       "      <th>DTCTHFNM</th>\n",
       "      <th>INVEST</th>\n",
       "      <th>VXOCLSx</th>\n",
       "    </tr>\n",
       "  </thead>\n",
       "  <tbody>\n",
       "    <tr>\n",
       "      <td>0</td>\n",
       "      <td>1/1/59</td>\n",
       "      <td>Normal</td>\n",
       "      <td>2437.296</td>\n",
       "      <td>2288.8</td>\n",
       "      <td>17.302</td>\n",
       "      <td>292258.8329</td>\n",
       "      <td>18235.77392</td>\n",
       "      <td>22.6248</td>\n",
       "      <td>23.4555</td>\n",
       "      <td>22.1893</td>\n",
       "      <td>...</td>\n",
       "      <td>11.358</td>\n",
       "      <td>2.13</td>\n",
       "      <td>2.45</td>\n",
       "      <td>2.04</td>\n",
       "      <td>NaN</td>\n",
       "      <td>274.9</td>\n",
       "      <td>6476.0</td>\n",
       "      <td>12298.0</td>\n",
       "      <td>84.2043</td>\n",
       "      <td>NaN</td>\n",
       "    </tr>\n",
       "    <tr>\n",
       "      <td>1</td>\n",
       "      <td>2/1/59</td>\n",
       "      <td>Normal</td>\n",
       "      <td>2446.902</td>\n",
       "      <td>2297.0</td>\n",
       "      <td>17.482</td>\n",
       "      <td>294429.5453</td>\n",
       "      <td>18369.56308</td>\n",
       "      <td>23.0679</td>\n",
       "      <td>23.7720</td>\n",
       "      <td>22.3816</td>\n",
       "      <td>...</td>\n",
       "      <td>11.375</td>\n",
       "      <td>2.14</td>\n",
       "      <td>2.46</td>\n",
       "      <td>2.05</td>\n",
       "      <td>NaN</td>\n",
       "      <td>276.0</td>\n",
       "      <td>6476.0</td>\n",
       "      <td>12298.0</td>\n",
       "      <td>83.5280</td>\n",
       "      <td>NaN</td>\n",
       "    </tr>\n",
       "    <tr>\n",
       "      <td>2</td>\n",
       "      <td>3/1/59</td>\n",
       "      <td>Normal</td>\n",
       "      <td>2462.689</td>\n",
       "      <td>2314.0</td>\n",
       "      <td>17.647</td>\n",
       "      <td>293425.3813</td>\n",
       "      <td>18523.05762</td>\n",
       "      <td>23.4002</td>\n",
       "      <td>23.9159</td>\n",
       "      <td>22.4914</td>\n",
       "      <td>...</td>\n",
       "      <td>11.395</td>\n",
       "      <td>2.15</td>\n",
       "      <td>2.45</td>\n",
       "      <td>2.07</td>\n",
       "      <td>NaN</td>\n",
       "      <td>277.4</td>\n",
       "      <td>6508.0</td>\n",
       "      <td>12349.0</td>\n",
       "      <td>81.6405</td>\n",
       "      <td>NaN</td>\n",
       "    </tr>\n",
       "    <tr>\n",
       "      <td>3</td>\n",
       "      <td>4/1/59</td>\n",
       "      <td>Normal</td>\n",
       "      <td>2478.744</td>\n",
       "      <td>2330.3</td>\n",
       "      <td>17.584</td>\n",
       "      <td>299331.6505</td>\n",
       "      <td>18534.46600</td>\n",
       "      <td>23.8987</td>\n",
       "      <td>24.2613</td>\n",
       "      <td>22.8210</td>\n",
       "      <td>...</td>\n",
       "      <td>11.436</td>\n",
       "      <td>2.16</td>\n",
       "      <td>2.47</td>\n",
       "      <td>2.08</td>\n",
       "      <td>NaN</td>\n",
       "      <td>278.1</td>\n",
       "      <td>6620.0</td>\n",
       "      <td>12484.0</td>\n",
       "      <td>81.8099</td>\n",
       "      <td>NaN</td>\n",
       "    </tr>\n",
       "    <tr>\n",
       "      <td>4</td>\n",
       "      <td>5/1/59</td>\n",
       "      <td>Normal</td>\n",
       "      <td>2493.228</td>\n",
       "      <td>2345.8</td>\n",
       "      <td>17.796</td>\n",
       "      <td>301372.9597</td>\n",
       "      <td>18679.66354</td>\n",
       "      <td>24.2587</td>\n",
       "      <td>24.4628</td>\n",
       "      <td>23.0407</td>\n",
       "      <td>...</td>\n",
       "      <td>11.454</td>\n",
       "      <td>2.17</td>\n",
       "      <td>2.48</td>\n",
       "      <td>2.08</td>\n",
       "      <td>95.3</td>\n",
       "      <td>280.1</td>\n",
       "      <td>6753.0</td>\n",
       "      <td>12646.0</td>\n",
       "      <td>80.7315</td>\n",
       "      <td>NaN</td>\n",
       "    </tr>\n",
       "  </tbody>\n",
       "</table>\n",
       "<p>5 rows × 130 columns</p>\n",
       "</div>"
      ],
      "text/plain": [
       "     Date  Regime       RPI  W875RX1  DPCERA3M086SBEA    CMRMTSPLx  \\\n",
       "0  1/1/59  Normal  2437.296   2288.8           17.302  292258.8329   \n",
       "1  2/1/59  Normal  2446.902   2297.0           17.482  294429.5453   \n",
       "2  3/1/59  Normal  2462.689   2314.0           17.647  293425.3813   \n",
       "3  4/1/59  Normal  2478.744   2330.3           17.584  299331.6505   \n",
       "4  5/1/59  Normal  2493.228   2345.8           17.796  301372.9597   \n",
       "\n",
       "       RETAILx   INDPRO  IPFPNSS  IPFINAL  ...  DSERRG3M086SBEA  \\\n",
       "0  18235.77392  22.6248  23.4555  22.1893  ...           11.358   \n",
       "1  18369.56308  23.0679  23.7720  22.3816  ...           11.375   \n",
       "2  18523.05762  23.4002  23.9159  22.4914  ...           11.395   \n",
       "3  18534.46600  23.8987  24.2613  22.8210  ...           11.436   \n",
       "4  18679.66354  24.2587  24.4628  23.0407  ...           11.454   \n",
       "\n",
       "   CES0600000008  CES2000000008  CES3000000008  UMCSENTx  MZMSL  DTCOLNVHFNM  \\\n",
       "0           2.13           2.45           2.04       NaN  274.9       6476.0   \n",
       "1           2.14           2.46           2.05       NaN  276.0       6476.0   \n",
       "2           2.15           2.45           2.07       NaN  277.4       6508.0   \n",
       "3           2.16           2.47           2.08       NaN  278.1       6620.0   \n",
       "4           2.17           2.48           2.08      95.3  280.1       6753.0   \n",
       "\n",
       "   DTCTHFNM   INVEST  VXOCLSx  \n",
       "0   12298.0  84.2043      NaN  \n",
       "1   12298.0  83.5280      NaN  \n",
       "2   12349.0  81.6405      NaN  \n",
       "3   12484.0  81.8099      NaN  \n",
       "4   12646.0  80.7315      NaN  \n",
       "\n",
       "[5 rows x 130 columns]"
      ]
     },
     "execution_count": 3,
     "metadata": {},
     "output_type": "execute_result"
    }
   ],
   "source": [
    "# Add a Regime column to our dataset\n",
    "Recession_periods=pd.read_csv('data/regime_prediction_with_ML/Recession_Periods.csv')\n",
    "bigmacro.insert(loc=1,column=\"Regime\", value=Recession_periods['Regime'].values)\n",
    "bigmacro.head()"
   ]
  },
  {
   "cell_type": "code",
   "execution_count": 4,
   "metadata": {},
   "outputs": [
    {
     "data": {
      "text/html": [
       "<div>\n",
       "<style scoped>\n",
       "    .dataframe tbody tr th:only-of-type {\n",
       "        vertical-align: middle;\n",
       "    }\n",
       "\n",
       "    .dataframe tbody tr th {\n",
       "        vertical-align: top;\n",
       "    }\n",
       "\n",
       "    .dataframe thead th {\n",
       "        text-align: right;\n",
       "    }\n",
       "</style>\n",
       "<table border=\"1\" class=\"dataframe\">\n",
       "  <thead>\n",
       "    <tr style=\"text-align: right;\">\n",
       "      <th></th>\n",
       "      <th>Date</th>\n",
       "    </tr>\n",
       "    <tr>\n",
       "      <th>Regime</th>\n",
       "      <th></th>\n",
       "    </tr>\n",
       "  </thead>\n",
       "  <tbody>\n",
       "    <tr>\n",
       "      <td>Normal</td>\n",
       "      <td>628</td>\n",
       "    </tr>\n",
       "    <tr>\n",
       "      <td>Recession</td>\n",
       "      <td>93</td>\n",
       "    </tr>\n",
       "  </tbody>\n",
       "</table>\n",
       "</div>"
      ],
      "text/plain": [
       "           Date\n",
       "Regime         \n",
       "Normal      628\n",
       "Recession    93"
      ]
     },
     "execution_count": 4,
     "metadata": {},
     "output_type": "execute_result"
    }
   ],
   "source": [
    "bigmacro[[\"Date\",\"Regime\"]].groupby(\"Regime\").count()"
   ]
  },
  {
   "cell_type": "markdown",
   "metadata": {},
   "source": [
    "Our data consists of 628 'Normal' periods and 93 'Recession' periods."
   ]
  },
  {
   "cell_type": "markdown",
   "metadata": {},
   "source": [
    "#### Explanatory Data Analysis"
   ]
  },
  {
   "cell_type": "markdown",
   "metadata": {},
   "source": [
    "Let's look at performance of stock market and economy over normal and recession periods. Below you can see the performance of SP500 and GDP over the period 1959-2018. Gray areas indicate recession periods in our dataset. Over the long period of time, the GDP growths smoothly, but during crash periods - we see much bigger drops in GDP growth rate."
   ]
  },
  {
   "cell_type": "markdown",
   "metadata": {},
   "source": [
    "<img src=\"data/regime_prediction_with_ML/plots.png\" />"
   ]
  },
  {
   "cell_type": "markdown",
   "metadata": {},
   "source": [
    "## Data Preprocessing\n",
    "\n",
    "In this part we will prepare the dataset for our recession forecasting problem. We will clean the data and perform feature selection to reduce the number of variables in the data."
   ]
  },
  {
   "cell_type": "markdown",
   "metadata": {},
   "source": [
    "### Set Up Environment and Read Data"
   ]
  },
  {
   "cell_type": "code",
   "execution_count": 5,
   "metadata": {},
   "outputs": [],
   "source": [
    "#load libraries\n",
    "import pandas as pd\n",
    "import numpy as np\n",
    "import matplotlib.pyplot as plt \n",
    "\n",
    "from statsmodels.tsa.stattools import adfuller # to check unit root in time series \n",
    "from sklearn import preprocessing\n",
    "from sklearn.preprocessing import StandardScaler\n",
    "from sklearn.linear_model import LogisticRegression\n",
    "from sklearn.feature_selection import SelectFromModel\n",
    "\n",
    "import seaborn as sns # for correlation heatmap\n",
    "\n",
    "import warnings\n",
    "warnings.filterwarnings('ignore')"
   ]
  },
  {
   "cell_type": "code",
   "execution_count": 6,
   "metadata": {},
   "outputs": [
    {
     "data": {
      "text/html": [
       "<div>\n",
       "<style scoped>\n",
       "    .dataframe tbody tr th:only-of-type {\n",
       "        vertical-align: middle;\n",
       "    }\n",
       "\n",
       "    .dataframe tbody tr th {\n",
       "        vertical-align: top;\n",
       "    }\n",
       "\n",
       "    .dataframe thead th {\n",
       "        text-align: right;\n",
       "    }\n",
       "</style>\n",
       "<table border=\"1\" class=\"dataframe\">\n",
       "  <thead>\n",
       "    <tr style=\"text-align: right;\">\n",
       "      <th></th>\n",
       "      <th>Date</th>\n",
       "      <th>Regime</th>\n",
       "      <th>RPI</th>\n",
       "      <th>W875RX1</th>\n",
       "      <th>DPCERA3M086SBEA</th>\n",
       "      <th>CMRMTSPLx</th>\n",
       "      <th>RETAILx</th>\n",
       "      <th>INDPRO</th>\n",
       "      <th>IPFPNSS</th>\n",
       "      <th>IPFINAL</th>\n",
       "      <th>...</th>\n",
       "      <th>DSERRG3M086SBEA</th>\n",
       "      <th>CES0600000008</th>\n",
       "      <th>CES2000000008</th>\n",
       "      <th>CES3000000008</th>\n",
       "      <th>UMCSENTx</th>\n",
       "      <th>MZMSL</th>\n",
       "      <th>DTCOLNVHFNM</th>\n",
       "      <th>DTCTHFNM</th>\n",
       "      <th>INVEST</th>\n",
       "      <th>VXOCLSx</th>\n",
       "    </tr>\n",
       "  </thead>\n",
       "  <tbody>\n",
       "    <tr>\n",
       "      <td>0</td>\n",
       "      <td>1/1/59</td>\n",
       "      <td>Normal</td>\n",
       "      <td>2437.296</td>\n",
       "      <td>2288.8</td>\n",
       "      <td>17.302</td>\n",
       "      <td>292258.8329</td>\n",
       "      <td>18235.77392</td>\n",
       "      <td>22.6248</td>\n",
       "      <td>23.4555</td>\n",
       "      <td>22.1893</td>\n",
       "      <td>...</td>\n",
       "      <td>11.358</td>\n",
       "      <td>2.13</td>\n",
       "      <td>2.45</td>\n",
       "      <td>2.04</td>\n",
       "      <td>NaN</td>\n",
       "      <td>274.9</td>\n",
       "      <td>6476.0</td>\n",
       "      <td>12298.0</td>\n",
       "      <td>84.2043</td>\n",
       "      <td>NaN</td>\n",
       "    </tr>\n",
       "    <tr>\n",
       "      <td>1</td>\n",
       "      <td>2/1/59</td>\n",
       "      <td>Normal</td>\n",
       "      <td>2446.902</td>\n",
       "      <td>2297.0</td>\n",
       "      <td>17.482</td>\n",
       "      <td>294429.5453</td>\n",
       "      <td>18369.56308</td>\n",
       "      <td>23.0679</td>\n",
       "      <td>23.7720</td>\n",
       "      <td>22.3816</td>\n",
       "      <td>...</td>\n",
       "      <td>11.375</td>\n",
       "      <td>2.14</td>\n",
       "      <td>2.46</td>\n",
       "      <td>2.05</td>\n",
       "      <td>NaN</td>\n",
       "      <td>276.0</td>\n",
       "      <td>6476.0</td>\n",
       "      <td>12298.0</td>\n",
       "      <td>83.5280</td>\n",
       "      <td>NaN</td>\n",
       "    </tr>\n",
       "    <tr>\n",
       "      <td>2</td>\n",
       "      <td>3/1/59</td>\n",
       "      <td>Normal</td>\n",
       "      <td>2462.689</td>\n",
       "      <td>2314.0</td>\n",
       "      <td>17.647</td>\n",
       "      <td>293425.3813</td>\n",
       "      <td>18523.05762</td>\n",
       "      <td>23.4002</td>\n",
       "      <td>23.9159</td>\n",
       "      <td>22.4914</td>\n",
       "      <td>...</td>\n",
       "      <td>11.395</td>\n",
       "      <td>2.15</td>\n",
       "      <td>2.45</td>\n",
       "      <td>2.07</td>\n",
       "      <td>NaN</td>\n",
       "      <td>277.4</td>\n",
       "      <td>6508.0</td>\n",
       "      <td>12349.0</td>\n",
       "      <td>81.6405</td>\n",
       "      <td>NaN</td>\n",
       "    </tr>\n",
       "    <tr>\n",
       "      <td>3</td>\n",
       "      <td>4/1/59</td>\n",
       "      <td>Normal</td>\n",
       "      <td>2478.744</td>\n",
       "      <td>2330.3</td>\n",
       "      <td>17.584</td>\n",
       "      <td>299331.6505</td>\n",
       "      <td>18534.46600</td>\n",
       "      <td>23.8987</td>\n",
       "      <td>24.2613</td>\n",
       "      <td>22.8210</td>\n",
       "      <td>...</td>\n",
       "      <td>11.436</td>\n",
       "      <td>2.16</td>\n",
       "      <td>2.47</td>\n",
       "      <td>2.08</td>\n",
       "      <td>NaN</td>\n",
       "      <td>278.1</td>\n",
       "      <td>6620.0</td>\n",
       "      <td>12484.0</td>\n",
       "      <td>81.8099</td>\n",
       "      <td>NaN</td>\n",
       "    </tr>\n",
       "    <tr>\n",
       "      <td>4</td>\n",
       "      <td>5/1/59</td>\n",
       "      <td>Normal</td>\n",
       "      <td>2493.228</td>\n",
       "      <td>2345.8</td>\n",
       "      <td>17.796</td>\n",
       "      <td>301372.9597</td>\n",
       "      <td>18679.66354</td>\n",
       "      <td>24.2587</td>\n",
       "      <td>24.4628</td>\n",
       "      <td>23.0407</td>\n",
       "      <td>...</td>\n",
       "      <td>11.454</td>\n",
       "      <td>2.17</td>\n",
       "      <td>2.48</td>\n",
       "      <td>2.08</td>\n",
       "      <td>95.3</td>\n",
       "      <td>280.1</td>\n",
       "      <td>6753.0</td>\n",
       "      <td>12646.0</td>\n",
       "      <td>80.7315</td>\n",
       "      <td>NaN</td>\n",
       "    </tr>\n",
       "  </tbody>\n",
       "</table>\n",
       "<p>5 rows × 130 columns</p>\n",
       "</div>"
      ],
      "text/plain": [
       "     Date  Regime       RPI  W875RX1  DPCERA3M086SBEA    CMRMTSPLx  \\\n",
       "0  1/1/59  Normal  2437.296   2288.8           17.302  292258.8329   \n",
       "1  2/1/59  Normal  2446.902   2297.0           17.482  294429.5453   \n",
       "2  3/1/59  Normal  2462.689   2314.0           17.647  293425.3813   \n",
       "3  4/1/59  Normal  2478.744   2330.3           17.584  299331.6505   \n",
       "4  5/1/59  Normal  2493.228   2345.8           17.796  301372.9597   \n",
       "\n",
       "       RETAILx   INDPRO  IPFPNSS  IPFINAL  ...  DSERRG3M086SBEA  \\\n",
       "0  18235.77392  22.6248  23.4555  22.1893  ...           11.358   \n",
       "1  18369.56308  23.0679  23.7720  22.3816  ...           11.375   \n",
       "2  18523.05762  23.4002  23.9159  22.4914  ...           11.395   \n",
       "3  18534.46600  23.8987  24.2613  22.8210  ...           11.436   \n",
       "4  18679.66354  24.2587  24.4628  23.0407  ...           11.454   \n",
       "\n",
       "   CES0600000008  CES2000000008  CES3000000008  UMCSENTx  MZMSL  DTCOLNVHFNM  \\\n",
       "0           2.13           2.45           2.04       NaN  274.9       6476.0   \n",
       "1           2.14           2.46           2.05       NaN  276.0       6476.0   \n",
       "2           2.15           2.45           2.07       NaN  277.4       6508.0   \n",
       "3           2.16           2.47           2.08       NaN  278.1       6620.0   \n",
       "4           2.17           2.48           2.08      95.3  280.1       6753.0   \n",
       "\n",
       "   DTCTHFNM   INVEST  VXOCLSx  \n",
       "0   12298.0  84.2043      NaN  \n",
       "1   12298.0  83.5280      NaN  \n",
       "2   12349.0  81.6405      NaN  \n",
       "3   12484.0  81.8099      NaN  \n",
       "4   12646.0  80.7315      NaN  \n",
       "\n",
       "[5 rows x 130 columns]"
      ]
     },
     "execution_count": 6,
     "metadata": {},
     "output_type": "execute_result"
    }
   ],
   "source": [
    "bigmacro=pd.read_csv(\"data/regime_prediction_with_ML/Macroeconomic_Variables.csv\") \n",
    "bigmacro=bigmacro.rename(columns={'sasdate':'Date'})\n",
    "Recession_periods=pd.read_csv('data/regime_prediction_with_ML/Recession_Periods.csv') \n",
    "bigmacro.insert(loc=1,column=\"Regime\", value=Recession_periods['Regime'].values)\n",
    "bigmacro.head()"
   ]
  },
  {
   "cell_type": "markdown",
   "metadata": {},
   "source": [
    "### Data Cleaning"
   ]
  },
  {
   "cell_type": "markdown",
   "metadata": {},
   "source": [
    "We will follow the steps below to clean data and make it ready for feature selection process.\n",
    "\n",
    "1. Remove the variables with missing observations\n",
    "2. Add lags of the variables as additional features\n",
    "3. Test stationarity of time series\n",
    "4. Standardize the dataset"
   ]
  },
  {
   "cell_type": "markdown",
   "metadata": {},
   "source": [
    "#### Remove missing observations"
   ]
  },
  {
   "cell_type": "code",
   "execution_count": 7,
   "metadata": {},
   "outputs": [
    {
     "name": "stdout",
     "output_type": "stream",
     "text": [
      "PERMIT:13\n",
      "PERMITNE:13\n",
      "PERMITMW:13\n",
      "PERMITS:13\n",
      "PERMITW:13\n",
      "ACOGNO:398\n",
      "ANDENOx:110\n",
      "TWEXMMTH:168\n",
      "UMCSENTx:155\n",
      "VXOCLSx:42\n"
     ]
    }
   ],
   "source": [
    "# Find columns with missing observations\n",
    "missing_colnames=[]\n",
    "for i in bigmacro.drop(['Date','Regime'],axis=1): # for each column\n",
    "    observations=len(bigmacro)-bigmacro[i].count() # count number of missing observations\n",
    "    if (observations>10):\n",
    "        print(i+':'+str(observations))\n",
    "        missing_colnames.append(i)"
   ]
  },
  {
   "cell_type": "code",
   "execution_count": 8,
   "metadata": {},
   "outputs": [
    {
     "data": {
      "text/plain": [
       "(721, 130)"
      ]
     },
     "execution_count": 8,
     "metadata": {},
     "output_type": "execute_result"
    }
   ],
   "source": [
    "bigmacro.shape "
   ]
  },
  {
   "cell_type": "code",
   "execution_count": 9,
   "metadata": {},
   "outputs": [
    {
     "data": {
      "text/plain": [
       "(721, 120)"
      ]
     },
     "execution_count": 9,
     "metadata": {},
     "output_type": "execute_result"
    }
   ],
   "source": [
    "# remove columns with missing observations to keep the original lenght of the time period. \n",
    "bigmacro = bigmacro.drop(labels=missing_colnames, axis=1)\n",
    "bigmacro.shape"
   ]
  },
  {
   "cell_type": "code",
   "execution_count": 10,
   "metadata": {},
   "outputs": [
    {
     "data": {
      "text/plain": [
       "(718, 120)"
      ]
     },
     "execution_count": 10,
     "metadata": {},
     "output_type": "execute_result"
    }
   ],
   "source": [
    "# Remove rows with missing values\n",
    "bigmacro=bigmacro.dropna(axis=0)\n",
    "\n",
    "bigmacro.shape"
   ]
  },
  {
   "cell_type": "markdown",
   "metadata": {},
   "source": [
    "#### Adding lagged variables"
   ]
  },
  {
   "cell_type": "code",
   "execution_count": 11,
   "metadata": {},
   "outputs": [],
   "source": [
    "# Add lagged variables as new features\n",
    "for col in bigmacro.drop(['Date', 'Regime'], axis=1):\n",
    "    for n in [3,6,9,12,18]:\n",
    "        bigmacro['{} {}M lag'.format(col, n)] = bigmacro[col].shift(n).ffill().values\n",
    "\n",
    "# 1 month ahead prediction\n",
    "bigmacro[\"Regime\"]=bigmacro[\"Regime\"].shift(-1)\n",
    "\n",
    "# Remove rows with missing values\n",
    "bigmacro=bigmacro.dropna(axis=0)"
   ]
  },
  {
   "cell_type": "markdown",
   "metadata": {},
   "source": [
    "Finally, we have 699 observations and 710 features in our dataset. "
   ]
  },
  {
   "cell_type": "code",
   "execution_count": 12,
   "metadata": {},
   "outputs": [
    {
     "data": {
      "text/plain": [
       "(699, 710)"
      ]
     },
     "execution_count": 12,
     "metadata": {},
     "output_type": "execute_result"
    }
   ],
   "source": [
    "bigmacro.shape"
   ]
  },
  {
   "cell_type": "markdown",
   "metadata": {},
   "source": [
    "#### Stationarity of time series\n",
    "\n",
    "Statistical stationarity: A stationary time series is one whose statistical properties such as mean, variance, autocorrelation, etc. are all constant over time. Most statistical forecasting methods are based on the assumption that the time series can be rendered approximately stationary. More information on stationarity and differencing can be found __[here](https://people.duke.edu/~rnau/411diff.htm)__.\n",
    "\n",
    "Augmented Dickey-Fuller Test can be used to test for stationarity in macroeconomic time series variables. We will use `adfuller` function from `statsmodels` module in Python. More information about the function can be found __[here](https://www.statsmodels.org/dev/generated/statsmodels.tsa.stattools.adfuller.html)__.\n",
    "\n",
    "$H_0$ : Series non-stationary\n",
    "\n",
    "$H_1$ : Series stationary\n",
    "\n",
    "If `p-value` > `significance level` - we cannot reject null hypothesis. Then take first order difference."
   ]
  },
  {
   "cell_type": "code",
   "execution_count": 13,
   "metadata": {},
   "outputs": [],
   "source": [
    "# Test for stationarity. Take first-order difference to make it stationary\n",
    "from statsmodels.tsa.stattools import adfuller #to check unit root in time series\n",
    "\n",
    "threshold = 0.01 #significance level\n",
    "\n",
    "for column in bigmacro.drop(['Date','Regime'], axis=1):\n",
    "    result=adfuller(bigmacro[column])\n",
    "    if result[1]>threshold:\n",
    "        bigmacro[column]=bigmacro[column].diff()\n",
    "        \n",
    "bigmacro=bigmacro.dropna(axis=0)"
   ]
  },
  {
   "cell_type": "code",
   "execution_count": 14,
   "metadata": {},
   "outputs": [],
   "source": [
    "# Second order difference\n",
    "\n",
    "threshold = 0.01 #significance level\n",
    "\n",
    "for column in bigmacro.drop(['Date','Regime'], axis=1):\n",
    "    result=adfuller(bigmacro[column])\n",
    "    if result[1]>threshold:\n",
    "        bigmacro[column]=bigmacro[column].diff()\n",
    "        \n",
    "bigmacro=bigmacro.dropna(axis=0)"
   ]
  },
  {
   "cell_type": "code",
   "execution_count": 15,
   "metadata": {},
   "outputs": [
    {
     "name": "stdout",
     "output_type": "stream",
     "text": [
      "CES0600000008 6M lag\n"
     ]
    }
   ],
   "source": [
    "# Third order difference\n",
    "\n",
    "threshold = 0.01 #significance level\n",
    "\n",
    "for column in bigmacro.drop(['Date','Regime'], axis=1):\n",
    "    result=adfuller(bigmacro[column])\n",
    "    if result[1]>threshold:\n",
    "        print(column)\n",
    "bigmacro=bigmacro.dropna(axis=0) "
   ]
  },
  {
   "cell_type": "markdown",
   "metadata": {},
   "source": [
    "#### Standardization\n",
    "\n",
    "Standardize features by removing mean and scaling to unit variance."
   ]
  },
  {
   "cell_type": "code",
   "execution_count": 16,
   "metadata": {},
   "outputs": [
    {
     "data": {
      "text/html": [
       "<div>\n",
       "<style scoped>\n",
       "    .dataframe tbody tr th:only-of-type {\n",
       "        vertical-align: middle;\n",
       "    }\n",
       "\n",
       "    .dataframe tbody tr th {\n",
       "        vertical-align: top;\n",
       "    }\n",
       "\n",
       "    .dataframe thead th {\n",
       "        text-align: right;\n",
       "    }\n",
       "</style>\n",
       "<table border=\"1\" class=\"dataframe\">\n",
       "  <thead>\n",
       "    <tr style=\"text-align: right;\">\n",
       "      <th></th>\n",
       "      <th>Date</th>\n",
       "      <th>Regime</th>\n",
       "      <th>RPI</th>\n",
       "      <th>W875RX1</th>\n",
       "      <th>DPCERA3M086SBEA</th>\n",
       "      <th>CMRMTSPLx</th>\n",
       "      <th>RETAILx</th>\n",
       "      <th>INDPRO</th>\n",
       "      <th>IPFPNSS</th>\n",
       "      <th>IPFINAL</th>\n",
       "      <th>...</th>\n",
       "      <th>DTCTHFNM 3M lag</th>\n",
       "      <th>DTCTHFNM 6M lag</th>\n",
       "      <th>DTCTHFNM 9M lag</th>\n",
       "      <th>DTCTHFNM 12M lag</th>\n",
       "      <th>DTCTHFNM 18M lag</th>\n",
       "      <th>INVEST 3M lag</th>\n",
       "      <th>INVEST 6M lag</th>\n",
       "      <th>INVEST 9M lag</th>\n",
       "      <th>INVEST 12M lag</th>\n",
       "      <th>INVEST 18M lag</th>\n",
       "    </tr>\n",
       "  </thead>\n",
       "  <tbody>\n",
       "    <tr>\n",
       "      <td>0</td>\n",
       "      <td>9/1/60</td>\n",
       "      <td>Recession</td>\n",
       "      <td>-0.277761</td>\n",
       "      <td>-0.295013</td>\n",
       "      <td>-0.212118</td>\n",
       "      <td>0.401363</td>\n",
       "      <td>-0.321981</td>\n",
       "      <td>-0.764446</td>\n",
       "      <td>-0.632790</td>\n",
       "      <td>-0.465458</td>\n",
       "      <td>...</td>\n",
       "      <td>-0.076853</td>\n",
       "      <td>-0.092745</td>\n",
       "      <td>-0.087114</td>\n",
       "      <td>-0.085455</td>\n",
       "      <td>-0.099002</td>\n",
       "      <td>-0.454463</td>\n",
       "      <td>-0.566992</td>\n",
       "      <td>-0.395095</td>\n",
       "      <td>-0.450998</td>\n",
       "      <td>-0.089005</td>\n",
       "    </tr>\n",
       "    <tr>\n",
       "      <td>1</td>\n",
       "      <td>10/1/60</td>\n",
       "      <td>Recession</td>\n",
       "      <td>-0.204460</td>\n",
       "      <td>-0.161434</td>\n",
       "      <td>-0.204519</td>\n",
       "      <td>-0.978339</td>\n",
       "      <td>-0.239615</td>\n",
       "      <td>-0.308591</td>\n",
       "      <td>0.059474</td>\n",
       "      <td>-0.009134</td>\n",
       "      <td>...</td>\n",
       "      <td>-0.081327</td>\n",
       "      <td>-0.084890</td>\n",
       "      <td>-0.103429</td>\n",
       "      <td>-0.089335</td>\n",
       "      <td>-0.090643</td>\n",
       "      <td>-0.255545</td>\n",
       "      <td>-0.415804</td>\n",
       "      <td>-0.483302</td>\n",
       "      <td>-0.473520</td>\n",
       "      <td>0.147174</td>\n",
       "    </tr>\n",
       "    <tr>\n",
       "      <td>2</td>\n",
       "      <td>11/1/60</td>\n",
       "      <td>Recession</td>\n",
       "      <td>-0.520186</td>\n",
       "      <td>-0.577658</td>\n",
       "      <td>-0.785798</td>\n",
       "      <td>-0.611700</td>\n",
       "      <td>-0.435990</td>\n",
       "      <td>-0.935469</td>\n",
       "      <td>-0.748034</td>\n",
       "      <td>-0.719013</td>\n",
       "      <td>...</td>\n",
       "      <td>-0.084509</td>\n",
       "      <td>-0.087674</td>\n",
       "      <td>-0.095868</td>\n",
       "      <td>-0.095503</td>\n",
       "      <td>-0.087956</td>\n",
       "      <td>-0.404823</td>\n",
       "      <td>-0.392308</td>\n",
       "      <td>-0.605015</td>\n",
       "      <td>-0.445070</td>\n",
       "      <td>-0.091651</td>\n",
       "    </tr>\n",
       "    <tr>\n",
       "      <td>3</td>\n",
       "      <td>12/1/60</td>\n",
       "      <td>Recession</td>\n",
       "      <td>-0.531320</td>\n",
       "      <td>-0.581530</td>\n",
       "      <td>-1.397470</td>\n",
       "      <td>0.071269</td>\n",
       "      <td>-0.375495</td>\n",
       "      <td>-1.163499</td>\n",
       "      <td>-0.921200</td>\n",
       "      <td>-0.769798</td>\n",
       "      <td>...</td>\n",
       "      <td>-0.095048</td>\n",
       "      <td>-0.076637</td>\n",
       "      <td>-0.094476</td>\n",
       "      <td>-0.087146</td>\n",
       "      <td>-0.076214</td>\n",
       "      <td>-0.331993</td>\n",
       "      <td>-0.453979</td>\n",
       "      <td>-0.578110</td>\n",
       "      <td>-0.389378</td>\n",
       "      <td>-0.070555</td>\n",
       "    </tr>\n",
       "    <tr>\n",
       "      <td>4</td>\n",
       "      <td>1/1/61</td>\n",
       "      <td>Normal</td>\n",
       "      <td>0.054513</td>\n",
       "      <td>0.096044</td>\n",
       "      <td>-0.375484</td>\n",
       "      <td>-1.608684</td>\n",
       "      <td>-0.307555</td>\n",
       "      <td>-0.194576</td>\n",
       "      <td>-0.286457</td>\n",
       "      <td>-0.313288</td>\n",
       "      <td>...</td>\n",
       "      <td>-0.103002</td>\n",
       "      <td>-0.081112</td>\n",
       "      <td>-0.086616</td>\n",
       "      <td>-0.103462</td>\n",
       "      <td>-0.076910</td>\n",
       "      <td>-0.250758</td>\n",
       "      <td>-0.253854</td>\n",
       "      <td>-0.425585</td>\n",
       "      <td>-0.477942</td>\n",
       "      <td>0.167308</td>\n",
       "    </tr>\n",
       "  </tbody>\n",
       "</table>\n",
       "<p>5 rows × 710 columns</p>\n",
       "</div>"
      ],
      "text/plain": [
       "      Date     Regime       RPI   W875RX1  DPCERA3M086SBEA  CMRMTSPLx  \\\n",
       "0   9/1/60  Recession -0.277761 -0.295013        -0.212118   0.401363   \n",
       "1  10/1/60  Recession -0.204460 -0.161434        -0.204519  -0.978339   \n",
       "2  11/1/60  Recession -0.520186 -0.577658        -0.785798  -0.611700   \n",
       "3  12/1/60  Recession -0.531320 -0.581530        -1.397470   0.071269   \n",
       "4   1/1/61     Normal  0.054513  0.096044        -0.375484  -1.608684   \n",
       "\n",
       "    RETAILx    INDPRO   IPFPNSS   IPFINAL  ...  DTCTHFNM 3M lag  \\\n",
       "0 -0.321981 -0.764446 -0.632790 -0.465458  ...        -0.076853   \n",
       "1 -0.239615 -0.308591  0.059474 -0.009134  ...        -0.081327   \n",
       "2 -0.435990 -0.935469 -0.748034 -0.719013  ...        -0.084509   \n",
       "3 -0.375495 -1.163499 -0.921200 -0.769798  ...        -0.095048   \n",
       "4 -0.307555 -0.194576 -0.286457 -0.313288  ...        -0.103002   \n",
       "\n",
       "   DTCTHFNM 6M lag  DTCTHFNM 9M lag  DTCTHFNM 12M lag  DTCTHFNM 18M lag  \\\n",
       "0        -0.092745        -0.087114         -0.085455         -0.099002   \n",
       "1        -0.084890        -0.103429         -0.089335         -0.090643   \n",
       "2        -0.087674        -0.095868         -0.095503         -0.087956   \n",
       "3        -0.076637        -0.094476         -0.087146         -0.076214   \n",
       "4        -0.081112        -0.086616         -0.103462         -0.076910   \n",
       "\n",
       "   INVEST 3M lag  INVEST 6M lag  INVEST 9M lag  INVEST 12M lag  INVEST 18M lag  \n",
       "0      -0.454463      -0.566992      -0.395095       -0.450998       -0.089005  \n",
       "1      -0.255545      -0.415804      -0.483302       -0.473520        0.147174  \n",
       "2      -0.404823      -0.392308      -0.605015       -0.445070       -0.091651  \n",
       "3      -0.331993      -0.453979      -0.578110       -0.389378       -0.070555  \n",
       "4      -0.250758      -0.253854      -0.425585       -0.477942        0.167308  \n",
       "\n",
       "[5 rows x 710 columns]"
      ]
     },
     "execution_count": 16,
     "metadata": {},
     "output_type": "execute_result"
    }
   ],
   "source": [
    "# Standardize\n",
    "from sklearn.preprocessing import StandardScaler\n",
    "\n",
    "features=bigmacro.drop(['Date','Regime'],axis=1)\n",
    "col_names=features.columns\n",
    "\n",
    "scaler=StandardScaler()\n",
    "scaler.fit(features)\n",
    "standardized_features=scaler.transform(features)\n",
    "standardized_features.shape\n",
    "\n",
    "df=pd.DataFrame(data=standardized_features,columns=col_names)\n",
    "df.insert(loc=0,column=\"Date\", value=bigmacro['Date'].values)\n",
    "df.insert(loc=1,column='Regime', value=bigmacro['Regime'].values)\n",
    "df.head()"
   ]
  },
  {
   "cell_type": "code",
   "execution_count": 17,
   "metadata": {},
   "outputs": [
    {
     "data": {
      "text/plain": [
       "(697, 710)"
      ]
     },
     "execution_count": 17,
     "metadata": {},
     "output_type": "execute_result"
    }
   ],
   "source": [
    "df.shape"
   ]
  },
  {
   "cell_type": "code",
   "execution_count": 18,
   "metadata": {},
   "outputs": [],
   "source": [
    "df.to_csv(\"data/regime_prediction_with_ML/Dataset_Cleaned.csv\", index=False)"
   ]
  },
  {
   "cell_type": "markdown",
   "metadata": {},
   "source": [
    "## Forecasting regimes\n",
    "\n",
    "In this part we are going to predict economic regimes with machine learning algorithms using Pyhton's Scikit Learn package."
   ]
  },
  {
   "cell_type": "markdown",
   "metadata": {},
   "source": [
    "### Set Up Environment and Read Data"
   ]
  },
  {
   "cell_type": "code",
   "execution_count": 19,
   "metadata": {},
   "outputs": [],
   "source": [
    "#load libraries\n",
    "import pandas as pd\n",
    "import numpy as np\n",
    "import matplotlib.pyplot as plt \n",
    "from sklearn import metrics\n",
    "\n",
    "from sklearn.metrics import classification_report\n",
    "from sklearn.metrics import confusion_matrix\n",
    "from sklearn.metrics import f1_score\n",
    "from sklearn.metrics import roc_auc_score, roc_curve, auc\n",
    "from sklearn import model_selection\n",
    "from sklearn import preprocessing\n",
    "from sklearn.model_selection import TimeSeriesSplit\n",
    "from sklearn.feature_selection import SelectFromModel\n",
    "\n",
    "from sklearn.linear_model import LogisticRegression\n",
    "from sklearn.discriminant_analysis import LinearDiscriminantAnalysis\n",
    "from sklearn.neighbors import KNeighborsClassifier\n",
    "from sklearn.svm import SVC\n",
    "from sklearn.ensemble import GradientBoostingClassifier\n",
    "from sklearn.ensemble import AdaBoostClassifier\n",
    "from sklearn.ensemble import RandomForestClassifier\n",
    "from sklearn.tree import DecisionTreeClassifier\n",
    "import xgboost as xgb\n",
    "\n",
    "from matplotlib import pyplot as mp\n",
    "import seaborn as sns\n",
    "import os\n",
    "import warnings\n",
    "warnings.filterwarnings('ignore')"
   ]
  },
  {
   "cell_type": "code",
   "execution_count": 20,
   "metadata": {},
   "outputs": [],
   "source": [
    "df=pd.read_csv('data/regime_prediction_with_ML/Dataset_Cleaned.csv')\n",
    "\n",
    "Label = df[\"Regime\"].apply(lambda regime: 1. if regime == 'Normal' else 0.)\n",
    "df.insert(loc=2, column=\"Label\", value=Label.values)"
   ]
  },
  {
   "cell_type": "code",
   "execution_count": 21,
   "metadata": {},
   "outputs": [
    {
     "data": {
      "text/html": [
       "<div>\n",
       "<style scoped>\n",
       "    .dataframe tbody tr th:only-of-type {\n",
       "        vertical-align: middle;\n",
       "    }\n",
       "\n",
       "    .dataframe tbody tr th {\n",
       "        vertical-align: top;\n",
       "    }\n",
       "\n",
       "    .dataframe thead th {\n",
       "        text-align: right;\n",
       "    }\n",
       "</style>\n",
       "<table border=\"1\" class=\"dataframe\">\n",
       "  <thead>\n",
       "    <tr style=\"text-align: right;\">\n",
       "      <th></th>\n",
       "      <th>Date</th>\n",
       "      <th>Regime</th>\n",
       "      <th>Label</th>\n",
       "      <th>RPI</th>\n",
       "      <th>W875RX1</th>\n",
       "      <th>DPCERA3M086SBEA</th>\n",
       "      <th>CMRMTSPLx</th>\n",
       "      <th>RETAILx</th>\n",
       "      <th>INDPRO</th>\n",
       "      <th>IPFPNSS</th>\n",
       "      <th>...</th>\n",
       "      <th>DTCTHFNM 3M lag</th>\n",
       "      <th>DTCTHFNM 6M lag</th>\n",
       "      <th>DTCTHFNM 9M lag</th>\n",
       "      <th>DTCTHFNM 12M lag</th>\n",
       "      <th>DTCTHFNM 18M lag</th>\n",
       "      <th>INVEST 3M lag</th>\n",
       "      <th>INVEST 6M lag</th>\n",
       "      <th>INVEST 9M lag</th>\n",
       "      <th>INVEST 12M lag</th>\n",
       "      <th>INVEST 18M lag</th>\n",
       "    </tr>\n",
       "  </thead>\n",
       "  <tbody>\n",
       "    <tr>\n",
       "      <td>0</td>\n",
       "      <td>9/1/60</td>\n",
       "      <td>Recession</td>\n",
       "      <td>0.0</td>\n",
       "      <td>-0.277761</td>\n",
       "      <td>-0.295013</td>\n",
       "      <td>-0.212118</td>\n",
       "      <td>0.401363</td>\n",
       "      <td>-0.321981</td>\n",
       "      <td>-0.764446</td>\n",
       "      <td>-0.632790</td>\n",
       "      <td>...</td>\n",
       "      <td>-0.076853</td>\n",
       "      <td>-0.092745</td>\n",
       "      <td>-0.087114</td>\n",
       "      <td>-0.085455</td>\n",
       "      <td>-0.099002</td>\n",
       "      <td>-0.454463</td>\n",
       "      <td>-0.566992</td>\n",
       "      <td>-0.395095</td>\n",
       "      <td>-0.450998</td>\n",
       "      <td>-0.089005</td>\n",
       "    </tr>\n",
       "    <tr>\n",
       "      <td>1</td>\n",
       "      <td>10/1/60</td>\n",
       "      <td>Recession</td>\n",
       "      <td>0.0</td>\n",
       "      <td>-0.204460</td>\n",
       "      <td>-0.161434</td>\n",
       "      <td>-0.204519</td>\n",
       "      <td>-0.978339</td>\n",
       "      <td>-0.239615</td>\n",
       "      <td>-0.308591</td>\n",
       "      <td>0.059474</td>\n",
       "      <td>...</td>\n",
       "      <td>-0.081327</td>\n",
       "      <td>-0.084890</td>\n",
       "      <td>-0.103429</td>\n",
       "      <td>-0.089335</td>\n",
       "      <td>-0.090643</td>\n",
       "      <td>-0.255545</td>\n",
       "      <td>-0.415804</td>\n",
       "      <td>-0.483302</td>\n",
       "      <td>-0.473520</td>\n",
       "      <td>0.147174</td>\n",
       "    </tr>\n",
       "    <tr>\n",
       "      <td>2</td>\n",
       "      <td>11/1/60</td>\n",
       "      <td>Recession</td>\n",
       "      <td>0.0</td>\n",
       "      <td>-0.520186</td>\n",
       "      <td>-0.577658</td>\n",
       "      <td>-0.785798</td>\n",
       "      <td>-0.611700</td>\n",
       "      <td>-0.435990</td>\n",
       "      <td>-0.935469</td>\n",
       "      <td>-0.748034</td>\n",
       "      <td>...</td>\n",
       "      <td>-0.084509</td>\n",
       "      <td>-0.087674</td>\n",
       "      <td>-0.095868</td>\n",
       "      <td>-0.095503</td>\n",
       "      <td>-0.087956</td>\n",
       "      <td>-0.404823</td>\n",
       "      <td>-0.392308</td>\n",
       "      <td>-0.605015</td>\n",
       "      <td>-0.445070</td>\n",
       "      <td>-0.091651</td>\n",
       "    </tr>\n",
       "    <tr>\n",
       "      <td>3</td>\n",
       "      <td>12/1/60</td>\n",
       "      <td>Recession</td>\n",
       "      <td>0.0</td>\n",
       "      <td>-0.531320</td>\n",
       "      <td>-0.581530</td>\n",
       "      <td>-1.397470</td>\n",
       "      <td>0.071269</td>\n",
       "      <td>-0.375495</td>\n",
       "      <td>-1.163499</td>\n",
       "      <td>-0.921200</td>\n",
       "      <td>...</td>\n",
       "      <td>-0.095048</td>\n",
       "      <td>-0.076637</td>\n",
       "      <td>-0.094476</td>\n",
       "      <td>-0.087146</td>\n",
       "      <td>-0.076214</td>\n",
       "      <td>-0.331993</td>\n",
       "      <td>-0.453979</td>\n",
       "      <td>-0.578110</td>\n",
       "      <td>-0.389378</td>\n",
       "      <td>-0.070555</td>\n",
       "    </tr>\n",
       "    <tr>\n",
       "      <td>4</td>\n",
       "      <td>1/1/61</td>\n",
       "      <td>Normal</td>\n",
       "      <td>1.0</td>\n",
       "      <td>0.054513</td>\n",
       "      <td>0.096044</td>\n",
       "      <td>-0.375484</td>\n",
       "      <td>-1.608684</td>\n",
       "      <td>-0.307555</td>\n",
       "      <td>-0.194576</td>\n",
       "      <td>-0.286457</td>\n",
       "      <td>...</td>\n",
       "      <td>-0.103002</td>\n",
       "      <td>-0.081112</td>\n",
       "      <td>-0.086616</td>\n",
       "      <td>-0.103462</td>\n",
       "      <td>-0.076910</td>\n",
       "      <td>-0.250758</td>\n",
       "      <td>-0.253854</td>\n",
       "      <td>-0.425585</td>\n",
       "      <td>-0.477942</td>\n",
       "      <td>0.167308</td>\n",
       "    </tr>\n",
       "  </tbody>\n",
       "</table>\n",
       "<p>5 rows × 711 columns</p>\n",
       "</div>"
      ],
      "text/plain": [
       "      Date     Regime  Label       RPI   W875RX1  DPCERA3M086SBEA  CMRMTSPLx  \\\n",
       "0   9/1/60  Recession    0.0 -0.277761 -0.295013        -0.212118   0.401363   \n",
       "1  10/1/60  Recession    0.0 -0.204460 -0.161434        -0.204519  -0.978339   \n",
       "2  11/1/60  Recession    0.0 -0.520186 -0.577658        -0.785798  -0.611700   \n",
       "3  12/1/60  Recession    0.0 -0.531320 -0.581530        -1.397470   0.071269   \n",
       "4   1/1/61     Normal    1.0  0.054513  0.096044        -0.375484  -1.608684   \n",
       "\n",
       "    RETAILx    INDPRO   IPFPNSS  ...  DTCTHFNM 3M lag  DTCTHFNM 6M lag  \\\n",
       "0 -0.321981 -0.764446 -0.632790  ...        -0.076853        -0.092745   \n",
       "1 -0.239615 -0.308591  0.059474  ...        -0.081327        -0.084890   \n",
       "2 -0.435990 -0.935469 -0.748034  ...        -0.084509        -0.087674   \n",
       "3 -0.375495 -1.163499 -0.921200  ...        -0.095048        -0.076637   \n",
       "4 -0.307555 -0.194576 -0.286457  ...        -0.103002        -0.081112   \n",
       "\n",
       "   DTCTHFNM 9M lag  DTCTHFNM 12M lag  DTCTHFNM 18M lag  INVEST 3M lag  \\\n",
       "0        -0.087114         -0.085455         -0.099002      -0.454463   \n",
       "1        -0.103429         -0.089335         -0.090643      -0.255545   \n",
       "2        -0.095868         -0.095503         -0.087956      -0.404823   \n",
       "3        -0.094476         -0.087146         -0.076214      -0.331993   \n",
       "4        -0.086616         -0.103462         -0.076910      -0.250758   \n",
       "\n",
       "   INVEST 6M lag  INVEST 9M lag  INVEST 12M lag  INVEST 18M lag  \n",
       "0      -0.566992      -0.395095       -0.450998       -0.089005  \n",
       "1      -0.415804      -0.483302       -0.473520        0.147174  \n",
       "2      -0.392308      -0.605015       -0.445070       -0.091651  \n",
       "3      -0.453979      -0.578110       -0.389378       -0.070555  \n",
       "4      -0.253854      -0.425585       -0.477942        0.167308  \n",
       "\n",
       "[5 rows x 711 columns]"
      ]
     },
     "execution_count": 21,
     "metadata": {},
     "output_type": "execute_result"
    }
   ],
   "source": [
    "df.head()"
   ]
  },
  {
   "cell_type": "code",
   "execution_count": 22,
   "metadata": {},
   "outputs": [
    {
     "data": {
      "text/html": [
       "<div>\n",
       "<style scoped>\n",
       "    .dataframe tbody tr th:only-of-type {\n",
       "        vertical-align: middle;\n",
       "    }\n",
       "\n",
       "    .dataframe tbody tr th {\n",
       "        vertical-align: top;\n",
       "    }\n",
       "\n",
       "    .dataframe thead th {\n",
       "        text-align: right;\n",
       "    }\n",
       "</style>\n",
       "<table border=\"1\" class=\"dataframe\">\n",
       "  <thead>\n",
       "    <tr style=\"text-align: right;\">\n",
       "      <th></th>\n",
       "      <th>Date</th>\n",
       "      <th>Regime</th>\n",
       "      <th>Label</th>\n",
       "      <th>RPI</th>\n",
       "      <th>W875RX1</th>\n",
       "      <th>DPCERA3M086SBEA</th>\n",
       "      <th>CMRMTSPLx</th>\n",
       "      <th>RETAILx</th>\n",
       "      <th>INDPRO</th>\n",
       "      <th>IPFPNSS</th>\n",
       "      <th>...</th>\n",
       "      <th>DTCTHFNM 3M lag</th>\n",
       "      <th>DTCTHFNM 6M lag</th>\n",
       "      <th>DTCTHFNM 9M lag</th>\n",
       "      <th>DTCTHFNM 12M lag</th>\n",
       "      <th>DTCTHFNM 18M lag</th>\n",
       "      <th>INVEST 3M lag</th>\n",
       "      <th>INVEST 6M lag</th>\n",
       "      <th>INVEST 9M lag</th>\n",
       "      <th>INVEST 12M lag</th>\n",
       "      <th>INVEST 18M lag</th>\n",
       "    </tr>\n",
       "  </thead>\n",
       "  <tbody>\n",
       "    <tr>\n",
       "      <td>692</td>\n",
       "      <td>5/1/18</td>\n",
       "      <td>Normal</td>\n",
       "      <td>1.0</td>\n",
       "      <td>-0.158774</td>\n",
       "      <td>-0.087869</td>\n",
       "      <td>0.961837</td>\n",
       "      <td>0.428800</td>\n",
       "      <td>2.458364</td>\n",
       "      <td>-2.071505</td>\n",
       "      <td>-3.897094</td>\n",
       "      <td>...</td>\n",
       "      <td>-0.482484</td>\n",
       "      <td>0.035214</td>\n",
       "      <td>-0.213850</td>\n",
       "      <td>0.107884</td>\n",
       "      <td>-0.230363</td>\n",
       "      <td>-2.969053</td>\n",
       "      <td>0.961673</td>\n",
       "      <td>0.029818</td>\n",
       "      <td>0.229887</td>\n",
       "      <td>-2.082950</td>\n",
       "    </tr>\n",
       "    <tr>\n",
       "      <td>693</td>\n",
       "      <td>6/1/18</td>\n",
       "      <td>Normal</td>\n",
       "      <td>1.0</td>\n",
       "      <td>0.349410</td>\n",
       "      <td>0.372881</td>\n",
       "      <td>0.885853</td>\n",
       "      <td>0.063037</td>\n",
       "      <td>0.230187</td>\n",
       "      <td>1.119480</td>\n",
       "      <td>1.231754</td>\n",
       "      <td>...</td>\n",
       "      <td>-0.658796</td>\n",
       "      <td>-0.179194</td>\n",
       "      <td>-0.133821</td>\n",
       "      <td>0.236277</td>\n",
       "      <td>-0.197709</td>\n",
       "      <td>-1.758884</td>\n",
       "      <td>2.236719</td>\n",
       "      <td>0.274491</td>\n",
       "      <td>-1.001393</td>\n",
       "      <td>-0.345305</td>\n",
       "    </tr>\n",
       "    <tr>\n",
       "      <td>694</td>\n",
       "      <td>7/1/18</td>\n",
       "      <td>Normal</td>\n",
       "      <td>1.0</td>\n",
       "      <td>0.225752</td>\n",
       "      <td>0.198647</td>\n",
       "      <td>0.954238</td>\n",
       "      <td>0.150980</td>\n",
       "      <td>1.059808</td>\n",
       "      <td>0.675562</td>\n",
       "      <td>-0.051761</td>\n",
       "      <td>...</td>\n",
       "      <td>0.108564</td>\n",
       "      <td>-0.311340</td>\n",
       "      <td>-0.144057</td>\n",
       "      <td>-0.120563</td>\n",
       "      <td>-0.293692</td>\n",
       "      <td>-1.727882</td>\n",
       "      <td>-0.918590</td>\n",
       "      <td>0.481157</td>\n",
       "      <td>-0.256506</td>\n",
       "      <td>1.560538</td>\n",
       "    </tr>\n",
       "    <tr>\n",
       "      <td>695</td>\n",
       "      <td>8/1/18</td>\n",
       "      <td>Normal</td>\n",
       "      <td>1.0</td>\n",
       "      <td>0.496621</td>\n",
       "      <td>0.504524</td>\n",
       "      <td>0.802270</td>\n",
       "      <td>0.788034</td>\n",
       "      <td>-0.474700</td>\n",
       "      <td>1.659097</td>\n",
       "      <td>0.954768</td>\n",
       "      <td>...</td>\n",
       "      <td>0.104177</td>\n",
       "      <td>-0.482299</td>\n",
       "      <td>0.033552</td>\n",
       "      <td>-0.213885</td>\n",
       "      <td>-0.613278</td>\n",
       "      <td>0.143563</td>\n",
       "      <td>-2.983834</td>\n",
       "      <td>0.964076</td>\n",
       "      <td>0.037260</td>\n",
       "      <td>0.000571</td>\n",
       "    </tr>\n",
       "    <tr>\n",
       "      <td>696</td>\n",
       "      <td>9/1/18</td>\n",
       "      <td>Normal</td>\n",
       "      <td>1.0</td>\n",
       "      <td>-0.077029</td>\n",
       "      <td>-0.231128</td>\n",
       "      <td>-0.561645</td>\n",
       "      <td>0.393889</td>\n",
       "      <td>-0.817945</td>\n",
       "      <td>0.153438</td>\n",
       "      <td>0.379952</td>\n",
       "      <td>...</td>\n",
       "      <td>-0.324269</td>\n",
       "      <td>-0.658623</td>\n",
       "      <td>-0.180970</td>\n",
       "      <td>-0.133855</td>\n",
       "      <td>-0.085913</td>\n",
       "      <td>2.453857</td>\n",
       "      <td>-1.766319</td>\n",
       "      <td>2.250399</td>\n",
       "      <td>0.282925</td>\n",
       "      <td>-0.081374</td>\n",
       "    </tr>\n",
       "  </tbody>\n",
       "</table>\n",
       "<p>5 rows × 711 columns</p>\n",
       "</div>"
      ],
      "text/plain": [
       "       Date  Regime  Label       RPI   W875RX1  DPCERA3M086SBEA  CMRMTSPLx  \\\n",
       "692  5/1/18  Normal    1.0 -0.158774 -0.087869         0.961837   0.428800   \n",
       "693  6/1/18  Normal    1.0  0.349410  0.372881         0.885853   0.063037   \n",
       "694  7/1/18  Normal    1.0  0.225752  0.198647         0.954238   0.150980   \n",
       "695  8/1/18  Normal    1.0  0.496621  0.504524         0.802270   0.788034   \n",
       "696  9/1/18  Normal    1.0 -0.077029 -0.231128        -0.561645   0.393889   \n",
       "\n",
       "      RETAILx    INDPRO   IPFPNSS  ...  DTCTHFNM 3M lag  DTCTHFNM 6M lag  \\\n",
       "692  2.458364 -2.071505 -3.897094  ...        -0.482484         0.035214   \n",
       "693  0.230187  1.119480  1.231754  ...        -0.658796        -0.179194   \n",
       "694  1.059808  0.675562 -0.051761  ...         0.108564        -0.311340   \n",
       "695 -0.474700  1.659097  0.954768  ...         0.104177        -0.482299   \n",
       "696 -0.817945  0.153438  0.379952  ...        -0.324269        -0.658623   \n",
       "\n",
       "     DTCTHFNM 9M lag  DTCTHFNM 12M lag  DTCTHFNM 18M lag  INVEST 3M lag  \\\n",
       "692        -0.213850          0.107884         -0.230363      -2.969053   \n",
       "693        -0.133821          0.236277         -0.197709      -1.758884   \n",
       "694        -0.144057         -0.120563         -0.293692      -1.727882   \n",
       "695         0.033552         -0.213885         -0.613278       0.143563   \n",
       "696        -0.180970         -0.133855         -0.085913       2.453857   \n",
       "\n",
       "     INVEST 6M lag  INVEST 9M lag  INVEST 12M lag  INVEST 18M lag  \n",
       "692       0.961673       0.029818        0.229887       -2.082950  \n",
       "693       2.236719       0.274491       -1.001393       -0.345305  \n",
       "694      -0.918590       0.481157       -0.256506        1.560538  \n",
       "695      -2.983834       0.964076        0.037260        0.000571  \n",
       "696      -1.766319       2.250399        0.282925       -0.081374  \n",
       "\n",
       "[5 rows x 711 columns]"
      ]
     },
     "execution_count": 22,
     "metadata": {},
     "output_type": "execute_result"
    }
   ],
   "source": [
    "df.tail()"
   ]
  },
  {
   "cell_type": "markdown",
   "metadata": {},
   "source": [
    "### Methodology"
   ]
  },
  {
   "cell_type": "markdown",
   "metadata": {},
   "source": [
    "Our exercise will be based on classification problem. We have two binary outcomes that we want to predict with certain variables. Here we will summarize our approach to predict recessions with machine learning algorithms.\n",
    "\n",
    "1. We will perform feature selection before making our forecasts. We will use $L_1$ regularized logistic regression for that purpose.\n",
    "\n",
    "2. Separate dataset into training and validation datasets. Split based dataset based on time: the period over 1960-1996 is selected for training and the period over 1996-2018 is kept for validation\n",
    "\n",
    "3. Evaluate performances of the machine learning algorithms on training dataset with cross validation (CV). Since we have time series structure we will use a special type of CV function in Python,__[`TimeSeriesSplit`](https://scikit-learn.org/stable/modules/generated/sklearn.model_selection.TimeSeriesSplit.html#sklearn.model_selection.TimeSeriesSplit)__. We will use Receiver operating characteristic (ROC) as scoring metric in our models. Related Python functions for this metric are __[`roc_auc_score`](https://scikit-learn.org/stable/modules/generated/sklearn.metrics.roc_auc_score.html#sklearn.metrics.roc_auc_score)__  and  __[`roc_curve`](https://scikit-learn.org/stable/modules/generated/sklearn.metrics.roc_curve.html#sklearn.metrics.roc_curve)__.\n",
    "\n",
    "4. Select the best performing models based on average accuracy and standard deviation of the CV results. We will take logistic regression as a benchmark model since this is the traditional method has been used to approach this problem.\n",
    "\n",
    "5. Then we make predictions on the validation dataset with selected models. First, we use __[`GridSearchCV`](https://scikit-learn.org/stable/modules/generated/sklearn.model_selection.GridSearchCV.html)__ for selected model on training dataset to find best combination of parameters for the model. Then we evaluate the model on validation dataset and report accuracy metrics and feature importance results."
   ]
  },
  {
   "cell_type": "markdown",
   "metadata": {},
   "source": [
    "### Feature Selection with $L_1$ Penalty\n",
    "\n",
    "Goal is to get the most important variables for our forecasts\n",
    "\n",
    "In machine learning and statistics feature selection is the process of selecting a subset of relevant features (variables, predictors) for use in model construction. Feature selection techniques are used for several reasons:\n",
    "\n",
    "- simplification of models to make them easier to interpret by researchers/users\n",
    "- shorter training times\n",
    "- to avoid the curse of dimensionality\n",
    "- enhanced generalization by reducing over-fitting (formally, reduction of variance)"
   ]
  },
  {
   "cell_type": "markdown",
   "metadata": {},
   "source": [
    "#### Time Series Split"
   ]
  },
  {
   "cell_type": "code",
   "execution_count": 23,
   "metadata": {},
   "outputs": [],
   "source": [
    "# Set target date\n",
    "df_idx = df[df.Date == '12/1/96'].index[0]\n",
    "\n",
    "df_targets=df['Label'].values\n",
    "df_features=df.drop(['Regime','Date','Label'], axis=1)\n",
    "\n",
    "# Split data into training and validation based on date index.\n",
    "df_training_features = df.iloc[:df_idx,:].drop(['Regime','Date','Label'], axis=1)\n",
    "df_validation_features = df.iloc[df_idx:, :].drop(['Regime','Date','Label'], axis=1)\n",
    "\n",
    "df_training_targets = df['Label'].values\n",
    "df_training_targets=df_training_targets[:df_idx]\n",
    "\n",
    "df_validation_targets = df['Label'].values\n",
    "df_validation_targets=df_validation_targets[df_idx:]"
   ]
  },
  {
   "cell_type": "code",
   "execution_count": 24,
   "metadata": {},
   "outputs": [
    {
     "name": "stdout",
     "output_type": "stream",
     "text": [
      "435 435 697\n",
      "262 262 697\n"
     ]
    }
   ],
   "source": [
    "print(len(df_training_features),len(df_training_targets),len(df_targets))\n",
    "print(len(df_validation_features),len(df_validation_targets),len(df_features))"
   ]
  },
  {
   "cell_type": "markdown",
   "metadata": {},
   "source": [
    "#### Cross-Validation (CV)\n",
    "\n",
    "k-fold CV splits training data into k smaller sets. It follows the procedure for each k folds\n",
    "- Train the model on k-1 folds of the training data\n",
    "- The resulting model is validated on the remaining part of the data.\n",
    "\n",
    "`TimeSeriesSplit` is a cross validation technique for time series data. Use first k sets as training adn the k+1 as test set.\n",
    "\n",
    "***\n",
    "\n",
    "We will use Receiver Operating Characteristic (`ROC`) for performance measurements since this is a classification problem. It tells how much model is capable of distinguishing between classes.\n",
    "\n",
    "- ROC curve is plotted with _True Positivity Rate_ (TPR) against the _False Positivity Rate_ (FPR). Ideally we want high TPR low FPR.\n",
    "- __roc_auc_score__ - calculate area under the curve (AUC). Higher AUC better the moodel at classification."
   ]
  },
  {
   "cell_type": "code",
   "execution_count": 25,
   "metadata": {},
   "outputs": [
    {
     "data": {
      "text/plain": [
       "LogisticRegression(C=0.1, class_weight=None, dual=False, fit_intercept=True,\n",
       "                   intercept_scaling=1, l1_ratio=None, max_iter=10000,\n",
       "                   multi_class='warn', n_jobs=None, penalty='l1',\n",
       "                   random_state=None, solver='warn', tol=0.0001, verbose=0,\n",
       "                   warm_start=False)"
      ]
     },
     "execution_count": 25,
     "metadata": {},
     "output_type": "execute_result"
    }
   ],
   "source": [
    "scoring=\"roc_auc\"\n",
    "kfold= model_selection.TimeSeriesSplit(n_splits=3)\n",
    "seed=8\n",
    "\n",
    "# Create regularization hyperparameter space\n",
    "C = np.reciprocal([0.00000001, 0.00000005, 0.0000001, 0.0000005, 0.000001, 0.000005, 0.00001, 0.00005, \n",
    "                         0.0001, 0.0005, 0.001, 0.005, 0.01, 0.05, 0.1, 0.5, 1, 5, 10, 50, 100, 500, 1000, 5000])\n",
    "\n",
    "# Create hyperparameter options\n",
    "hyperparameters = dict(C=C)\n",
    "\n",
    "# L1 penalty encourages the sum of absolute values of the parameters to be small.\n",
    "# In many models causes many parameters to equal zero, so that the parameters vector is sparse. \n",
    "model=LogisticRegression(max_iter=10000,penalty='l1')\n",
    "\n",
    "LR_penalty=model_selection.GridSearchCV(estimator=model, param_grid= hyperparameters,\n",
    "                                        cv=kfold, scoring=scoring).fit(X=df_features,\n",
    "                                                                       y=df_targets).best_estimator_\n",
    "\n",
    "LR_penalty"
   ]
  },
  {
   "cell_type": "markdown",
   "metadata": {},
   "source": [
    "We see that hyper-parameter C is chosen to be equal to 0.1"
   ]
  },
  {
   "cell_type": "code",
   "execution_count": 26,
   "metadata": {},
   "outputs": [
    {
     "data": {
      "text/plain": [
       "(697, 35)"
      ]
     },
     "execution_count": 26,
     "metadata": {},
     "output_type": "execute_result"
    }
   ],
   "source": [
    "X=df_features\n",
    "y=df_targets\n",
    "lr_l1 = LogisticRegression(C=0.1, max_iter=10000,penalty=\"l1\").fit(X,y)\n",
    "model = SelectFromModel(lr_l1,prefit=True)\n",
    "feature_idx = model.get_support()\n",
    "feature_name = X.columns[feature_idx]\n",
    "X_new = model.transform(X)\n",
    "X_new.shape"
   ]
  },
  {
   "cell_type": "code",
   "execution_count": 27,
   "metadata": {},
   "outputs": [
    {
     "data": {
      "text/plain": [
       "Index(['DPCERA3M086SBEA', 'IPFPNSS', 'IPMANSICS', 'HWI', 'UNRATE', 'PAYEMS',\n",
       "       'SRVPRD', 'USTPU', 'USWTRADE', 'USFIRE', 'HOUST', 'HOUSTW',\n",
       "       'S&P div yield', 'TB3MS', 'TB3SMFFM', 'IPMAT 9M lag', 'IPDMAT 12M lag',\n",
       "       'CLAIMSx 9M lag', 'DMANEMP 12M lag', 'USFIRE 3M lag', 'AWOTMAN 18M lag',\n",
       "       'BUSLOANS 6M lag', 'S&P 500 6M lag', 'S&P div yield 3M lag',\n",
       "       'TB3MS 6M lag', 'AAA 3M lag', 'TB3SMFFM 3M lag', 'T1YFFM 6M lag',\n",
       "       'T5YFFM 6M lag', 'T10YFFM 6M lag', 'T10YFFM 12M lag', 'EXUSUKx 12M lag',\n",
       "       'WPSID62 9M lag', 'OILPRICEx 9M lag', 'CUSR0000SAD 3M lag'],\n",
       "      dtype='object')"
      ]
     },
     "execution_count": 27,
     "metadata": {},
     "output_type": "execute_result"
    }
   ],
   "source": [
    "feature_name"
   ]
  },
  {
   "cell_type": "code",
   "execution_count": 28,
   "metadata": {},
   "outputs": [
    {
     "data": {
      "text/plain": [
       "(697, 38)"
      ]
     },
     "execution_count": 28,
     "metadata": {},
     "output_type": "execute_result"
    }
   ],
   "source": [
    "df_2=df[feature_name]\n",
    "df_2.insert(loc=0, column=\"Date\", value=df['Date'].values)\n",
    "df_2.insert(loc=1, column=\"Regime\", value=df['Regime'].values)\n",
    "df_2.insert(loc=2, column=\"Label\", value=df['Label'].values)\n",
    "\n",
    "df_2.shape"
   ]
  },
  {
   "cell_type": "code",
   "execution_count": 29,
   "metadata": {},
   "outputs": [
    {
     "data": {
      "text/html": [
       "<div>\n",
       "<style scoped>\n",
       "    .dataframe tbody tr th:only-of-type {\n",
       "        vertical-align: middle;\n",
       "    }\n",
       "\n",
       "    .dataframe tbody tr th {\n",
       "        vertical-align: top;\n",
       "    }\n",
       "\n",
       "    .dataframe thead th {\n",
       "        text-align: right;\n",
       "    }\n",
       "</style>\n",
       "<table border=\"1\" class=\"dataframe\">\n",
       "  <thead>\n",
       "    <tr style=\"text-align: right;\">\n",
       "      <th></th>\n",
       "      <th>Date</th>\n",
       "      <th>Regime</th>\n",
       "      <th>Label</th>\n",
       "      <th>DPCERA3M086SBEA</th>\n",
       "      <th>IPFPNSS</th>\n",
       "      <th>IPMANSICS</th>\n",
       "      <th>HWI</th>\n",
       "      <th>UNRATE</th>\n",
       "      <th>PAYEMS</th>\n",
       "      <th>SRVPRD</th>\n",
       "      <th>...</th>\n",
       "      <th>AAA 3M lag</th>\n",
       "      <th>TB3SMFFM 3M lag</th>\n",
       "      <th>T1YFFM 6M lag</th>\n",
       "      <th>T5YFFM 6M lag</th>\n",
       "      <th>T10YFFM 6M lag</th>\n",
       "      <th>T10YFFM 12M lag</th>\n",
       "      <th>EXUSUKx 12M lag</th>\n",
       "      <th>WPSID62 9M lag</th>\n",
       "      <th>OILPRICEx 9M lag</th>\n",
       "      <th>CUSR0000SAD 3M lag</th>\n",
       "    </tr>\n",
       "  </thead>\n",
       "  <tbody>\n",
       "    <tr>\n",
       "      <td>0</td>\n",
       "      <td>9/1/60</td>\n",
       "      <td>Recession</td>\n",
       "      <td>0.0</td>\n",
       "      <td>-0.212118</td>\n",
       "      <td>-0.632790</td>\n",
       "      <td>-0.668839</td>\n",
       "      <td>-0.430479</td>\n",
       "      <td>-0.552252</td>\n",
       "      <td>-0.914418</td>\n",
       "      <td>-1.042434</td>\n",
       "      <td>...</td>\n",
       "      <td>-0.041884</td>\n",
       "      <td>-0.544359</td>\n",
       "      <td>0.179239</td>\n",
       "      <td>-0.198693</td>\n",
       "      <td>-0.404092</td>\n",
       "      <td>-0.091362</td>\n",
       "      <td>-0.096023</td>\n",
       "      <td>-0.090452</td>\n",
       "      <td>-0.02448</td>\n",
       "      <td>-0.001964</td>\n",
       "    </tr>\n",
       "    <tr>\n",
       "      <td>1</td>\n",
       "      <td>10/1/60</td>\n",
       "      <td>Recession</td>\n",
       "      <td>0.0</td>\n",
       "      <td>-0.204519</td>\n",
       "      <td>0.059474</td>\n",
       "      <td>-0.275431</td>\n",
       "      <td>-0.442346</td>\n",
       "      <td>3.421843</td>\n",
       "      <td>-1.115684</td>\n",
       "      <td>-0.907419</td>\n",
       "      <td>...</td>\n",
       "      <td>-0.177246</td>\n",
       "      <td>-0.642367</td>\n",
       "      <td>0.101779</td>\n",
       "      <td>-0.271867</td>\n",
       "      <td>-0.434452</td>\n",
       "      <td>-0.315969</td>\n",
       "      <td>0.122977</td>\n",
       "      <td>-0.028562</td>\n",
       "      <td>-0.02448</td>\n",
       "      <td>0.421933</td>\n",
       "    </tr>\n",
       "    <tr>\n",
       "      <td>2</td>\n",
       "      <td>11/1/60</td>\n",
       "      <td>Recession</td>\n",
       "      <td>0.0</td>\n",
       "      <td>-0.785798</td>\n",
       "      <td>-0.748034</td>\n",
       "      <td>-1.013260</td>\n",
       "      <td>-0.187212</td>\n",
       "      <td>0.015476</td>\n",
       "      <td>-1.598722</td>\n",
       "      <td>-1.288636</td>\n",
       "      <td>...</td>\n",
       "      <td>-0.583332</td>\n",
       "      <td>-0.292338</td>\n",
       "      <td>0.411618</td>\n",
       "      <td>-0.074297</td>\n",
       "      <td>-0.349445</td>\n",
       "      <td>-0.328110</td>\n",
       "      <td>-0.038666</td>\n",
       "      <td>-0.049192</td>\n",
       "      <td>-0.02448</td>\n",
       "      <td>-0.001964</td>\n",
       "    </tr>\n",
       "    <tr>\n",
       "      <td>3</td>\n",
       "      <td>12/1/60</td>\n",
       "      <td>Recession</td>\n",
       "      <td>0.0</td>\n",
       "      <td>-1.397470</td>\n",
       "      <td>-0.921200</td>\n",
       "      <td>-0.915098</td>\n",
       "      <td>-0.477946</td>\n",
       "      <td>2.854115</td>\n",
       "      <td>-1.789925</td>\n",
       "      <td>-0.812115</td>\n",
       "      <td>...</td>\n",
       "      <td>-0.132125</td>\n",
       "      <td>0.491729</td>\n",
       "      <td>-0.001500</td>\n",
       "      <td>0.042781</td>\n",
       "      <td>-0.149071</td>\n",
       "      <td>-0.224912</td>\n",
       "      <td>-0.056916</td>\n",
       "      <td>0.012698</td>\n",
       "      <td>-0.02448</td>\n",
       "      <td>-0.849759</td>\n",
       "    </tr>\n",
       "    <tr>\n",
       "      <td>4</td>\n",
       "      <td>1/1/61</td>\n",
       "      <td>Normal</td>\n",
       "      <td>1.0</td>\n",
       "      <td>-0.375484</td>\n",
       "      <td>-0.286457</td>\n",
       "      <td>-0.176699</td>\n",
       "      <td>-0.038878</td>\n",
       "      <td>0.015476</td>\n",
       "      <td>-0.984861</td>\n",
       "      <td>-1.217158</td>\n",
       "      <td>...</td>\n",
       "      <td>0.228840</td>\n",
       "      <td>0.421723</td>\n",
       "      <td>-0.091870</td>\n",
       "      <td>-0.132836</td>\n",
       "      <td>-0.246222</td>\n",
       "      <td>-0.206701</td>\n",
       "      <td>0.091691</td>\n",
       "      <td>-0.028562</td>\n",
       "      <td>-0.02448</td>\n",
       "      <td>0.845831</td>\n",
       "    </tr>\n",
       "  </tbody>\n",
       "</table>\n",
       "<p>5 rows × 38 columns</p>\n",
       "</div>"
      ],
      "text/plain": [
       "      Date     Regime  Label  DPCERA3M086SBEA   IPFPNSS  IPMANSICS       HWI  \\\n",
       "0   9/1/60  Recession    0.0        -0.212118 -0.632790  -0.668839 -0.430479   \n",
       "1  10/1/60  Recession    0.0        -0.204519  0.059474  -0.275431 -0.442346   \n",
       "2  11/1/60  Recession    0.0        -0.785798 -0.748034  -1.013260 -0.187212   \n",
       "3  12/1/60  Recession    0.0        -1.397470 -0.921200  -0.915098 -0.477946   \n",
       "4   1/1/61     Normal    1.0        -0.375484 -0.286457  -0.176699 -0.038878   \n",
       "\n",
       "     UNRATE    PAYEMS    SRVPRD  ...  AAA 3M lag  TB3SMFFM 3M lag  \\\n",
       "0 -0.552252 -0.914418 -1.042434  ...   -0.041884        -0.544359   \n",
       "1  3.421843 -1.115684 -0.907419  ...   -0.177246        -0.642367   \n",
       "2  0.015476 -1.598722 -1.288636  ...   -0.583332        -0.292338   \n",
       "3  2.854115 -1.789925 -0.812115  ...   -0.132125         0.491729   \n",
       "4  0.015476 -0.984861 -1.217158  ...    0.228840         0.421723   \n",
       "\n",
       "   T1YFFM 6M lag  T5YFFM 6M lag  T10YFFM 6M lag  T10YFFM 12M lag  \\\n",
       "0       0.179239      -0.198693       -0.404092        -0.091362   \n",
       "1       0.101779      -0.271867       -0.434452        -0.315969   \n",
       "2       0.411618      -0.074297       -0.349445        -0.328110   \n",
       "3      -0.001500       0.042781       -0.149071        -0.224912   \n",
       "4      -0.091870      -0.132836       -0.246222        -0.206701   \n",
       "\n",
       "   EXUSUKx 12M lag  WPSID62 9M lag  OILPRICEx 9M lag  CUSR0000SAD 3M lag  \n",
       "0        -0.096023       -0.090452          -0.02448           -0.001964  \n",
       "1         0.122977       -0.028562          -0.02448            0.421933  \n",
       "2        -0.038666       -0.049192          -0.02448           -0.001964  \n",
       "3        -0.056916        0.012698          -0.02448           -0.849759  \n",
       "4         0.091691       -0.028562          -0.02448            0.845831  \n",
       "\n",
       "[5 rows x 38 columns]"
      ]
     },
     "execution_count": 29,
     "metadata": {},
     "output_type": "execute_result"
    }
   ],
   "source": [
    "df_2.head()"
   ]
  },
  {
   "cell_type": "markdown",
   "metadata": {},
   "source": [
    "Graph below is a correlation map for selected features. Red spots show up positive and blue spots negative correlation among variables. If we take a look at selected features, we see that they are from following categories: \n",
    "- Interest and credit rates\n",
    "- Employment variables\n",
    "- Stock market\n",
    "- Industrial production-related categories"
   ]
  },
  {
   "cell_type": "code",
   "execution_count": 30,
   "metadata": {},
   "outputs": [
    {
     "data": {
      "text/plain": [
       "<matplotlib.axes._subplots.AxesSubplot at 0x288d06376d8>"
      ]
     },
     "execution_count": 30,
     "metadata": {},
     "output_type": "execute_result"
    },
    {
     "data": {
      "image/png": "[encoded data removed]",
      "text/plain": [
       "<Figure size 720x576 with 2 Axes>"
      ]
     },
     "metadata": {
      "needs_background": "light"
     },
     "output_type": "display_data"
    }
   ],
   "source": [
    "corr = df_2.drop(['Date','Regime','Label'],axis=1).corr()\n",
    "plt.figure(figsize=(10, 8))\n",
    "sns.heatmap(corr, mask=np.zeros_like(corr, dtype=np.bool), \n",
    "            cmap=sns.diverging_palette(220, 10, as_cmap=True), square=True)"
   ]
  },
  {
   "cell_type": "markdown",
   "metadata": {},
   "source": [
    "### Training Algorithms on Training Dataset"
   ]
  },
  {
   "cell_type": "markdown",
   "metadata": {},
   "source": [
    "We will look at performances of a variety of prediction algorithms on training data for our problem. Then we will pick the best performing ones.\n",
    "\n",
    "For a detail description of the machine learning algorithms you can check scikit-learn's documentation __[here](https://scikit-learn.org/stable/supervised_learning.html#supervised-learning)__."
   ]
  },
  {
   "cell_type": "code",
   "execution_count": 31,
   "metadata": {},
   "outputs": [
    {
     "data": {
      "text/plain": [
       "(697, 38)"
      ]
     },
     "execution_count": 31,
     "metadata": {},
     "output_type": "execute_result"
    }
   ],
   "source": [
    "df=df_2\n",
    "df.shape"
   ]
  },
  {
   "cell_type": "code",
   "execution_count": 32,
   "metadata": {},
   "outputs": [],
   "source": [
    "# Time Series Split\n",
    "df_idx = df[df.Date == '12/1/96'].index[0]\n",
    "\n",
    "df_targets=df['Label'].values\n",
    "df_features=df.drop(['Regime','Date','Label'], axis=1)\n",
    "\n",
    "df_training_features = df.iloc[:df_idx,:].drop(['Regime','Date','Label'], axis=1)\n",
    "df_validation_features = df.iloc[df_idx:, :].drop(['Regime','Date','Label'], axis=1)\n",
    "\n",
    "df_training_targets = df['Label'].values\n",
    "df_training_targets=df_training_targets[:df_idx]\n",
    "\n",
    "df_validation_targets = df['Label'].values\n",
    "df_validation_targets=df_validation_targets[df_idx:]"
   ]
  },
  {
   "cell_type": "code",
   "execution_count": 33,
   "metadata": {},
   "outputs": [],
   "source": [
    "seed=8\n",
    "scoring='roc_auc' \n",
    "kfold = model_selection.TimeSeriesSplit(n_splits=3) \n",
    "models = []\n",
    "\n",
    "models.append(('LR', LogisticRegression(C=1e09)))\n",
    "models.append(('LR_L1', LogisticRegression(penalty = 'l1')))\n",
    "models.append(('LR_L2', LogisticRegression(penalty = 'l2')))\n",
    "models.append(('LDA', LinearDiscriminantAnalysis()))\n",
    "models.append(('KNN', KNeighborsClassifier()))\n",
    "models.append(('GB', GradientBoostingClassifier()))\n",
    "models.append(('ABC', AdaBoostClassifier()))\n",
    "models.append(('RF', RandomForestClassifier()))\n",
    "models.append(('XGB', xgb.XGBClassifier()))"
   ]
  },
  {
   "cell_type": "code",
   "execution_count": 34,
   "metadata": {},
   "outputs": [
    {
     "name": "stdout",
     "output_type": "stream",
     "text": [
      "LR: 0.877570 (0.047838)\n",
      "LR_L1: 0.934921 (0.031076)\n",
      "LR_L2: 0.928582 (0.040605)\n",
      "LDA: 0.858740 (0.063361)\n",
      "KNN: 0.837252 (0.115853)\n",
      "GB: 0.789688 (0.115732)\n",
      "ABC: 0.868133 (0.045829)\n",
      "RF: 0.847327 (0.124031)\n",
      "XGB: 0.878555 (0.063837)\n"
     ]
    },
    {
     "data": {
      "image/png": "[encoded data removed]",
      "text/plain": [
       "<Figure size 432x288 with 1 Axes>"
      ]
     },
     "metadata": {
      "needs_background": "light"
     },
     "output_type": "display_data"
    }
   ],
   "source": [
    "results = []\n",
    "names = []\n",
    "lb = preprocessing.LabelBinarizer()\n",
    "\n",
    "for name, model in models:\n",
    "    cv_results = model_selection.cross_val_score(estimator = model, X = df_training_features, \n",
    "                                                 y = lb.fit_transform(df_training_targets), cv=kfold, scoring = scoring)\n",
    "    \n",
    "    model.fit(df_training_features, df_training_targets) # train the model\n",
    "    fpr, tpr, thresholds = metrics.roc_curve(df_training_targets, model.predict_proba(df_training_features)[:,1])\n",
    "    auc = metrics.roc_auc_score(df_training_targets,model.predict(df_training_features))\n",
    "    plt.plot(fpr, tpr, label='%s ROC (area = %0.2f)' % (name, auc))\n",
    "    results.append(cv_results)\n",
    "    names.append(name)\n",
    "    msg = \"%s: %f (%f)\" % (name, cv_results.mean(), cv_results.std())\n",
    "    print(msg)\n",
    "\n",
    "plt.plot([0, 1], [0, 1],'r--')\n",
    "plt.xlim([-0.05, 1.0])\n",
    "plt.ylim([0.0, 1.05])\n",
    "plt.xlabel('1-Specificity(False Positive Rate)')\n",
    "plt.ylabel('Sensitivity(True Positive Rate)')\n",
    "plt.title('Receiver Operating Characteristic')\n",
    "plt.legend(loc='center left', bbox_to_anchor=(1, 0.5))\n",
    "plt.show() \n",
    "warnings.filterwarnings('ignore')"
   ]
  },
  {
   "cell_type": "code",
   "execution_count": 35,
   "metadata": {},
   "outputs": [
    {
     "data": {
      "image/png": "[encoded data removed]",
      "text/plain": [
       "<Figure size 432x288 with 1 Axes>"
      ]
     },
     "metadata": {
      "needs_background": "light"
     },
     "output_type": "display_data"
    }
   ],
   "source": [
    "fig = plt.figure()\n",
    "fig.suptitle('Algorithm Comparison based on Cross Validation Scores')\n",
    "ax = fig.add_subplot(111)\n",
    "plt.boxplot(results)\n",
    "ax.set_xticklabels(names)\n",
    "plt.show()"
   ]
  },
  {
   "cell_type": "markdown",
   "metadata": {},
   "source": [
    "So here, we have boxplot and ROC curve to compare these algorithms performances. In boxplot, we can see that regularized logistic regression and XGBoosting are among top performing ones. In ROC curve, we can see that tree-based algorithms are the top-performing ones with perfect score."
   ]
  },
  {
   "cell_type": "markdown",
   "metadata": {},
   "source": [
    "### Evaluate Performances of the Algorithms on Validation Dataset"
   ]
  },
  {
   "cell_type": "markdown",
   "metadata": {},
   "source": [
    "#### Logistic Regression"
   ]
  },
  {
   "cell_type": "markdown",
   "metadata": {},
   "source": [
    "Logistic regression is the most commonly used statistical model for binary classification. It uses the logit model of relating log-odds of the dependent variable linearly with the predictor (explanatory) variables to learn a form of the following logistic function that is used to separate instances of the two different classes. \n",
    "\n",
    "\\begin{align*}\n",
    "Pr(y=1|x) = h_\\beta(x) = \\frac{1}{1 + e^{-(\\beta_0 + \\beta_1  x)}} \\text{ where $\\beta_0$ is the intercept and $\\beta$ is the vector of trained weights}\n",
    "\\end{align*}\n",
    "\n",
    "The function returns a probability measure of which class a new instance is given its features, this measure is then used to make the final classification with some probability threshold, traditionally being 0.5.\n",
    "\n",
    "The specific logistic function is learned through gradient descent which focuses on minimizing error calculated through some cost function. A typical approach is to use the following maximum-likelihood estimator to minimize error in predicted probabilities.\n",
    "\n",
    "\\begin{align*}\n",
    "& J(\\beta) = -\\frac{1}{N}\\sum_{i=1}^Ny_ilog(h_\\beta(x_i)) + (1 - y_i)log(1 - h_\\beta(x_i)) \\\\\n",
    "& \\text{ where $N$ is the number of observations, $h_\\beta(x)$ is as defined above, and $y_i$ is the predicted class}\n",
    "\\end{align*}\n",
    "\n",
    "A regularization term \n",
    "\n",
    "\\begin{align*}\n",
    "\\lambda\\sum_{i=1}^N|\\beta_i| \\text{ where $\\lambda$ is a regularization parameter, }\n",
    "\\end{align*}\n",
    "\n",
    "is often added to the cost function to prevent overfitting by penalizing large coefficients. This regularization can be L1 or L2 penalty depending on the problem at hand."
   ]
  },
  {
   "cell_type": "code",
   "execution_count": 36,
   "metadata": {},
   "outputs": [],
   "source": [
    "model=LogisticRegression(C=1e09) # high penalty \n",
    "LR=model.fit(df_training_features,df_training_targets)\n",
    "training_predictions=LR.predict(df_training_features)\n",
    "prob_predictions = LR.predict_proba(df_training_features)\n",
    "prob_predictions = np.append(prob_predictions, LR.predict_proba(df_validation_features), axis=0)"
   ]
  },
  {
   "cell_type": "code",
   "execution_count": 37,
   "metadata": {},
   "outputs": [],
   "source": [
    "import datetime\n",
    "# define periods of recession\n",
    "rec_spans = []\n",
    "#rec_spans.append([datetime.datetime(1957,8,1), datetime.datetime(1958,4,1)])\n",
    "rec_spans.append([datetime.datetime(1960,4,1), datetime.datetime(1961,2,1)])\n",
    "rec_spans.append([datetime.datetime(1969,12,1), datetime.datetime(1970,11,1)])\n",
    "rec_spans.append([datetime.datetime(1973,11,1), datetime.datetime(1975,3,1)])\n",
    "rec_spans.append([datetime.datetime(1980,1,1), datetime.datetime(1980,6,1)])\n",
    "rec_spans.append([datetime.datetime(1981,7,1), datetime.datetime(1982,10,1)])\n",
    "rec_spans.append([datetime.datetime(1990,7,1), datetime.datetime(1991,2,1)])\n",
    "rec_spans.append([datetime.datetime(2001,3,1), datetime.datetime(2001,10,1)])\n",
    "rec_spans.append([datetime.datetime(2007,12,1), datetime.datetime(2009,5,1)])"
   ]
  },
  {
   "cell_type": "code",
   "execution_count": 38,
   "metadata": {},
   "outputs": [
    {
     "data": {
      "image/png": "[encoded data removed]",
      "text/plain": [
       "<Figure size 1440x360 with 1 Axes>"
      ]
     },
     "metadata": {
      "needs_background": "light"
     },
     "output_type": "display_data"
    }
   ],
   "source": [
    "sample_range = pd.date_range(start='9/1/1960', end='9/1/2018', freq='MS')\n",
    "\n",
    "plt.figure(figsize=(20,5))\n",
    "plt.plot(sample_range.to_series().values, prob_predictions[:,0])\n",
    "for i in range(len(rec_spans)):\n",
    "    plt.axvspan(rec_spans[i][0], rec_spans[i][len(rec_spans[i]) - 1], alpha=0.25, color='grey')\n",
    "plt.axhline(y=0.5, color='r', ls='dashed', alpha = 0.5)\n",
    "plt.title('Recession Prediction Probabalities with Logistic Regression')\n",
    "mp.savefig('data/regime_prediction_with_ML/plot1.png',  bbox_inches='tight')\n",
    "plt.show()"
   ]
  },
  {
   "cell_type": "markdown",
   "metadata": {},
   "source": [
    "We use logistic regression as a benchmark for our analysis. Here, we can see a plot of prediction probabilities for recesessions."
   ]
  },
  {
   "cell_type": "markdown",
   "metadata": {},
   "source": [
    "#### Logistic Regression with Regularization"
   ]
  },
  {
   "cell_type": "markdown",
   "metadata": {},
   "source": [
    "First we do a search over a hyper-parameter space and then train the model on training set. From graph below we see that out of sample forecasts probabilities are less noisy compared to logistic regression."
   ]
  },
  {
   "cell_type": "code",
   "execution_count": 39,
   "metadata": {},
   "outputs": [],
   "source": [
    "# Create regularization penalty space\n",
    "penalty = ['l1', 'l2']\n",
    "\n",
    "# Create regularization hyperparameter space\n",
    "C = np.reciprocal([0.00000001, 0.00000005, 0.0000001, 0.0000005, 0.000001, 0.000005, 0.00001, 0.00005, \n",
    "                         0.0001, 0.0005, 0.001, 0.005, 0.01, 0.05, 0.1, 0.5, 1, 5, 10, 50, 100, 500, 1000, 5000])\n",
    "\n",
    "# Create hyperparameter options\n",
    "hyperparameters = dict(C=C, penalty=penalty)\n",
    "\n",
    "\n",
    "model=LogisticRegression(max_iter=10000)\n",
    "LR_penalty=model_selection.GridSearchCV(estimator=model, param_grid= hyperparameters,\n",
    "                                        cv=kfold, scoring=scoring).fit(df_training_features,\n",
    "                                                                       df_training_targets).best_estimator_\n",
    "training_predictions=LR_penalty.predict(df_training_features)"
   ]
  },
  {
   "cell_type": "code",
   "execution_count": 40,
   "metadata": {},
   "outputs": [],
   "source": [
    "prob_predictions = LR_penalty.predict_proba(df_training_features)\n",
    "prob_predictions = np.append(prob_predictions, LR_penalty.predict_proba(df_validation_features), axis=0)"
   ]
  },
  {
   "cell_type": "code",
   "execution_count": 41,
   "metadata": {},
   "outputs": [
    {
     "data": {
      "image/png": "[encoded data removed]",
      "text/plain": [
       "<Figure size 1440x360 with 1 Axes>"
      ]
     },
     "metadata": {
      "needs_background": "light"
     },
     "output_type": "display_data"
    }
   ],
   "source": [
    "sample_range = pd.date_range(start='9/1/1960', end='9/1/2018', freq='MS')\n",
    "\n",
    "plt.figure(figsize=(20,5))\n",
    "plt.plot(sample_range.to_series().values, prob_predictions[:,0])\n",
    "for i in range(len(rec_spans)):\n",
    "    plt.axvspan(rec_spans[i][0], rec_spans[i][len(rec_spans[i]) - 1], alpha=0.25, color='grey')\n",
    "plt.axhline(y=0.5, color='r', ls='dashed', alpha = 0.5)\n",
    "plt.title('Recession Prediction Probabalities with Regularized Logistic Regression')\n",
    "mp.savefig('data/regime_prediction_with_ML/plot2.png',  bbox_inches='tight')\n",
    "plt.show()"
   ]
  },
  {
   "cell_type": "markdown",
   "metadata": {},
   "source": [
    "#### XGBoosting\n",
    "\n",
    "XGBoosting (extreme Gradient Boosting)\n",
    "\n",
    "- Boosting is a sequential technique which works on the principle of ensemble. It ombines a set of weak learners and delivers improved prediction accuracy.\n",
    "- We will use decision trees as base learner for boosting. Decision trees are nonparametric methods for regression and classification. \n",
    "- XGBoosting is advanced implementation of gradient boosting algorithm.\n",
    "    - Provides regularization, high flexibility, parallel processing."
   ]
  },
  {
   "cell_type": "code",
   "execution_count": 42,
   "metadata": {},
   "outputs": [
    {
     "data": {
      "text/plain": [
       "XGBClassifier(base_score=0.5, booster='gbtree', colsample_bylevel=1,\n",
       "              colsample_bynode=1, colsample_bytree=1, gamma=0,\n",
       "              learning_rate=0.1, max_delta_step=0, max_depth=3,\n",
       "              min_child_weight=1, missing=None, n_estimators=100, n_jobs=1,\n",
       "              nthread=None, objective='binary:logistic', random_state=0,\n",
       "              reg_alpha=0, reg_lambda=1, scale_pos_weight=1, seed=None,\n",
       "              silent=None, subsample=1, verbosity=1)"
      ]
     },
     "execution_count": 42,
     "metadata": {},
     "output_type": "execute_result"
    }
   ],
   "source": [
    "xgboost = model_selection.GridSearchCV(estimator=xgb.XGBClassifier(),\n",
    "                                       param_grid={'booster': ['gbtree']},\n",
    "                                       scoring=scoring, cv=kfold).fit(df_training_features, \n",
    "                                                                      lb.fit_transform(df_training_targets)).best_estimator_\n",
    "xgboost.fit(df_training_features, df_training_targets)"
   ]
  },
  {
   "cell_type": "code",
   "execution_count": 43,
   "metadata": {},
   "outputs": [],
   "source": [
    "prob_predictions = xgboost.predict_proba(df_training_features)\n",
    "prob_predictions = np.append(prob_predictions, xgboost.predict_proba(df_validation_features), axis=0)"
   ]
  },
  {
   "cell_type": "code",
   "execution_count": 44,
   "metadata": {
    "scrolled": true
   },
   "outputs": [
    {
     "data": {
      "image/png": "[encoded data removed]",
      "text/plain": [
       "<Figure size 1440x360 with 1 Axes>"
      ]
     },
     "metadata": {
      "needs_background": "light"
     },
     "output_type": "display_data"
    }
   ],
   "source": [
    "sample_range = pd.date_range(start='9/1/1960', end='9/1/2018', freq='MS')\n",
    "\n",
    "plt.figure(figsize=(20,5))\n",
    "plt.plot(sample_range.to_series().values, prob_predictions[:,0])\n",
    "for i in range(len(rec_spans)):\n",
    "    plt.axvspan(rec_spans[i][0], rec_spans[i][len(rec_spans[i]) - 1], alpha=0.25, color='grey')\n",
    "plt.axhline(y=0.5, color='r', ls='dashed', alpha = 0.5)\n",
    "plt.title('Recession Prediction Probabalities with XGBoost')\n",
    "mp.savefig('data/regime_prediction_with_ML/plot3.png',  bbox_inches='tight') \n",
    "plt.show()"
   ]
  },
  {
   "cell_type": "markdown",
   "metadata": {},
   "source": [
    "We see that we have good prediction probabilities for a whole period."
   ]
  },
  {
   "cell_type": "code",
   "execution_count": 45,
   "metadata": {
    "scrolled": false
   },
   "outputs": [
    {
     "data": {
      "image/png": "[encoded data removed]",
      "text/plain": [
       "<Figure size 432x432 with 1 Axes>"
      ]
     },
     "metadata": {
      "needs_background": "light"
     },
     "output_type": "display_data"
    }
   ],
   "source": [
    "# find feature importances\n",
    "headers = df.drop(['Regime','Label', 'Date'], axis=1).columns.values.tolist()\n",
    "xgboost_importances = pd.DataFrame(xgboost.feature_importances_, index = headers, columns = ['Relative Importance'])\n",
    "_ = xgboost_importances.sort_values(by = ['Relative Importance'], ascending = False, inplace=True)\n",
    "xgboost_importances = xgboost_importances[xgboost_importances['Relative Importance']>0].iloc[:20]\n",
    "\n",
    "# display importances in bar-chart and pie-chart\n",
    "fig = plt.figure(figsize=(6,6))\n",
    "plt.xticks(rotation='90')\n",
    "plt.barh(y=np.arange(len(xgboost_importances)), width=xgboost_importances['Relative Importance'], align='center', tick_label=xgboost_importances.index)\n",
    "plt.gca().invert_yaxis()\n",
    "mp.savefig('data/regime_prediction_with_ML/feature_importance.png',  bbox_inches='tight') \n",
    "plt.show()"
   ]
  },
  {
   "cell_type": "markdown",
   "metadata": {},
   "source": [
    "Figure above displays a list of features arranged by their predictive power. Interest rate spread, employment variables as top features for predicting recessions, which aligns with results in the literature.\n",
    "\n",
    "- T10YFFM 10-Year Treasury C Minus FEDFUNDS\n",
    "- TB3SMFFM 3-Month Treasury C Minus FEDFUNDS\n",
    "- PAYEMS All Employees: Total nonfarm\n",
    "- S&P div yield S&P ís Composite Common Stock: Dividend Yield\n",
    "- HWI Help-Wanted Index for United States"
   ]
  },
  {
   "cell_type": "code",
   "execution_count": 46,
   "metadata": {},
   "outputs": [
    {
     "data": {
      "image/png": "[encoded data removed]",
      "text/plain": [
       "<Figure size 432x288 with 1 Axes>"
      ]
     },
     "metadata": {
      "needs_background": "light"
     },
     "output_type": "display_data"
    }
   ],
   "source": [
    "fpr, tpr, thresholds = metrics.roc_curve(df_validation_targets, LR.predict_proba(df_validation_features)[:,1])\n",
    "auc = metrics.roc_auc_score(df_validation_targets,LR.predict(df_validation_features))\n",
    "plt.plot(fpr, tpr, label='%s ROC (area = %0.2f)' % ('LR', auc))\n",
    "\n",
    "fpr, tpr, thresholds = metrics.roc_curve(df_validation_targets, LR_penalty.predict_proba(df_validation_features)[:,1])\n",
    "auc = metrics.roc_auc_score(df_validation_targets,LR_penalty.predict(df_validation_features))\n",
    "plt.plot(fpr, tpr, label='%s ROC (area = %0.2f)' % ('LR_penalty', auc))\n",
    "\n",
    "fpr, tpr, thresholds = metrics.roc_curve(df_validation_targets, xgboost.predict_proba(df_validation_features)[:,1])\n",
    "auc = metrics.roc_auc_score(df_validation_targets,xgboost.predict(df_validation_features))\n",
    "plt.plot(fpr, tpr, label='%s ROC (area = %0.2f)' % ('XGBoost', auc))\n",
    "\n",
    "plt.plot([0, 1], [0, 1],'r--')\n",
    "plt.xlim([-0.05, 1.0])\n",
    "plt.ylim([0.0, 1.05])\n",
    "plt.xlabel('1-Specificity(False Positive Rate)')\n",
    "plt.ylabel('Sensitivity(True Positive Rate)')\n",
    "plt.title('Receiver Operating Characteristic (Validation Data)')\n",
    "plt.legend(loc='center left', bbox_to_anchor=(1, 0.5))\n",
    "mp.savefig('data/regime_prediction_with_ML/ROC1.png',  bbox_inches='tight') \n",
    "plt.show() "
   ]
  },
  {
   "cell_type": "markdown",
   "metadata": {},
   "source": [
    "From ROC plots, we can see boosting and regularized logistic regression have better performance metrics than logistic regression."
   ]
  },
  {
   "cell_type": "code",
   "execution_count": 47,
   "metadata": {},
   "outputs": [
    {
     "data": {
      "image/png": "[encoded data removed]",
      "text/plain": [
       "<Figure size 432x288 with 1 Axes>"
      ]
     },
     "metadata": {
      "needs_background": "light"
     },
     "output_type": "display_data"
    }
   ],
   "source": [
    "fpr, tpr, thresholds = metrics.roc_curve(df_targets, LR.predict_proba(df_features)[:,1])\n",
    "auc = metrics.roc_auc_score(df_targets,LR.predict(df_features))\n",
    "plt.plot(fpr, tpr, label='%s ROC (area = %0.2f)' % ('LR', auc))\n",
    "\n",
    "\n",
    "fpr, tpr, thresholds = metrics.roc_curve(df_targets, LR_penalty.predict_proba(df_features)[:,1])\n",
    "auc = metrics.roc_auc_score(df_targets,LR_penalty.predict(df_features))\n",
    "plt.plot(fpr, tpr, label='%s ROC (area = %0.2f)' % ('LR_penalty', auc))\n",
    "\n",
    "fpr, tpr, thresholds = metrics.roc_curve(df_targets, xgboost.predict_proba(df_features)[:,1])\n",
    "auc = metrics.roc_auc_score(df_targets,xgboost.predict(df_features))\n",
    "plt.plot(fpr, tpr, label='%s ROC (area = %0.2f)' % ('XGBoost', auc))\n",
    "\n",
    "plt.plot([0, 1], [0, 1],'r--')\n",
    "plt.xlim([-0.05, 1.0])\n",
    "plt.ylim([0.0, 1.05])\n",
    "plt.xlabel('1-Specificity(False Positive Rate)')\n",
    "plt.ylabel('Sensitivity(True Positive Rate)')\n",
    "plt.title('Receiver Operating Characteristic (Whole period)')\n",
    "plt.legend(loc='center left', bbox_to_anchor=(1, 0.5))\n",
    "mp.savefig('data/regime_prediction_with_ML/ROC2.png',  bbox_inches='tight') \n",
    "plt.show() "
   ]
  },
  {
   "cell_type": "markdown",
   "metadata": {},
   "source": [
    "## References to related work"
   ]
  },
  {
   "cell_type": "markdown",
   "metadata": {},
   "source": [
    "1. **W. Mitchell and A. Burns.** \"Statistical Indicators of Cyclical Revivals\", _National Bureau of Economic Research,_ 1938. <a class=\"anchor\" id=\"a\"></a>\n",
    "\n",
    "2. **J. H. Stock and M. W. Watson.** \"New Indexes of Coincedent and Leading Economic Indicators\", _NBER Macroeconomics Annual,_ 1989. <a class=\"anchor\" id=\"b\"></a> \n",
    "\n",
    "3. **A. Estrella and F. S. Mishkin.** \"Predicting U.S. Recessions: Financial Variables as Leading Indicators\", _Review of Economics and Statistics,_ 1998. <a class=\"anchor\" id=\"c\"></a>\n",
    "\n",
    "4. **D. Chionis, P. Gogas and I. Pragidis.** \"Predicting Euroepan Union Recessions in the Euro Era: the Yield Curve as a Forecasting Tool of Economic Activity\", _International Advances in Economic Research,_ 2009. <a class=\"anchor\" id=\"d\"></a>\n",
    "\n",
    "5. **S. Ng.** \"Viewpoint: Boosting Recessions\", _Canadian Journal of Economics,_ 2014. <a class=\"anchor\" id=\"e\"></a>\n",
    "\n",
    "6. **W. Liu and E. Moench** \"What Predicts US Recessions?\", _International Journal of Forecasting,_ 2016. <a class=\"anchor\" id=\"f\"></a>\n",
    "\n",
    "7. **M. Y. Huang, R. R. Rojas and P. D. Convery.** \" News Sentiment as Leading Indicators for Recessions\", _arXiv,_ 2018. <a id=\"g\"></a>\n",
    "\n",
    "8. **M. McCracken and S. Ng** \"__[FRED-MD: A Monthly Database for Macroeconomic Research](https://research.stlouisfed.org/econ/mccracken/fred-databases/)__\", _Working Paper,_ 2015.  <a class=\"anchor\" id=\"i\"></a>\n",
    "\n",
    "\n"
   ]
  }
 ],
 "metadata": {
  "kernelspec": {
   "display_name": "Python 3",
   "language": "python",
   "name": "python3"
  },
  "language_info": {
   "codemirror_mode": {
    "name": "ipython",
    "version": 3
   },
   "file_extension": ".py",
   "mimetype": "text/x-python",
   "name": "python",
   "nbconvert_exporter": "python",
   "pygments_lexer": "ipython3",
   "version": "3.7.1"
  },
  "toc": {
   "base_numbering": 1,
   "nav_menu": {},
   "number_sections": true,
   "sideBar": true,
   "skip_h1_title": true,
   "title_cell": "Table of Contents",
   "title_sidebar": "Contents",
   "toc_cell": true,
   "toc_position": {
    "height": "calc(100% - 180px)",
    "left": "10px",
    "top": "150px",
    "width": "203.333px"
   },
   "toc_section_display": true,
   "toc_window_display": true
  },
  "varInspector": {
   "cols": {
    "lenName": 16,
    "lenType": 16,
    "lenVar": 40
   },
   "kernels_config": {
    "python": {
     "delete_cmd_postfix": "",
     "delete_cmd_prefix": "del ",
     "library": "var_list.py",
     "varRefreshCmd": "print(var_dic_list())"
    },
    "r": {
     "delete_cmd_postfix": ") ",
     "delete_cmd_prefix": "rm(",
     "library": "var_list.r",
     "varRefreshCmd": "cat(var_dic_list()) "
    }
   },
   "types_to_exclude": [
    "module",
    "function",
    "builtin_function_or_method",
    "instance",
    "_Feature"
   ],
   "window_display": false
  }
 },
 "nbformat": 4,
 "nbformat_minor": 2
}
